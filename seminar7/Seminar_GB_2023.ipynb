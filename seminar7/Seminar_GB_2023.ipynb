{
 "cells": [
  {
   "cell_type": "markdown",
   "metadata": {
    "id": "VHc1eQ87cTXC"
   },
   "source": [
    "<a href=\"https://colab.research.google.com/github/adasegroup/ML2023_seminars/blob/master/seminar7/seminar_GB_2023.ipynb\" target=\"_parent\"><img src=\"https://colab.research.google.com/assets/colab-badge.svg\" alt=\"Open In Colab\"/></a>"
   ]
  },
  {
   "cell_type": "markdown",
   "metadata": {
    "id": "8SBTW7jZcTXF"
   },
   "source": [
    "# Seminar: Gradient Boosting\n",
    "Course: Machine Learning by professor Evgeny Burnaev\n",
    "<br>\n",
    "Author: Andrey Lange and Alexander Marusov"
   ]
  },
  {
   "cell_type": "markdown",
   "metadata": {
    "id": "OrN8wNyS0vfy"
   },
   "source": [
    "### Main statements about Decision Trees, Bagging and Random Forests. "
   ]
  },
  {
   "cell_type": "markdown",
   "metadata": {
    "id": "rIeG-wzk0we0"
   },
   "source": [
    "- **DECISION TREES**. With increasing the *max_depth* parameter the training loss of decision tree will be closer to zero, but test loss is high. This means, that our model has bad generalization capability and we have **overfitting**. Consequently, we need somehow prevent overfitting. Of course we can choose the best *max_depth* parameter according to test, but it is not the only one solution. \n",
    "\n",
    "- **BAGGING = DECISION TREE + BOOTSTRAP**. We can use several decision trees, which learn on different train sets, which were received using bootstrap procedure. Bootsrapped dataset contains the same number of samples as original data but some of them are included with some number of their copies, and some of them are not included. To make a final prediction we will average predictions across decision trees. Since we will have different trees, the predictions will be more less independent and, consequently, overfitting will be decreased.\n",
    "\n",
    "- **RANDOM FOREST = BAGGING + DIFFERENT FEATURES**.\n",
    "To increase generalization capability of the model (by making assumption about independency of trees stronger) we want to take not only different samples, but also different features as well. In Random Forest we have several decision trees, which are learned not only on different train samples, but also on different features as well.\n",
    "\n"
   ]
  },
  {
   "cell_type": "markdown",
   "metadata": {
    "id": "UhWh_vV58IyA"
   },
   "source": [
    "The main disadvantage of the ensembles above is that the learning process in undirected, i.e. decision trees don't know anything about mistakes of the others models. To eliminate this problem we will try the **Boosting** idea."
   ]
  },
  {
   "cell_type": "markdown",
   "metadata": {
    "id": "duezzdlyhUqS"
   },
   "source": [
    "### The problem statement\n"
   ]
  },
  {
   "cell_type": "markdown",
   "metadata": {
    "id": "_rZVv6TzdvZ4"
   },
   "source": [
    "The solution is found in the form of sum over random trees $h_m(x)$,\n",
    "$$F(x) = \\sum_{m=1}^{M} h_m(x).$$\n",
    "\n",
    "The additive model is built in a greedy fashion:\n",
    "$$f_m(x) = f_{m-1}(x) + h_m(x).$$\n",
    "\n",
    "Having loss function $L(y, f)$, we find every new tree from the optimization\n",
    "$$h_m =  \\arg\\min_{h} \\sum_{i=1}^{n} L(y_i, f_{m-1}(x_i) + h(x_i)).$$\n",
    "\n",
    "\n",
    "\n",
    "\n",
    "\n",
    "\n",
    "\n"
   ]
  },
  {
   "cell_type": "markdown",
   "metadata": {
    "id": "PblcHpTGhbqq"
   },
   "source": [
    "### How the problem is solved\n"
   ]
  },
  {
   "cell_type": "markdown",
   "metadata": {
    "id": "CQtiR57o027c"
   },
   "source": [
    "The initial model $f_0(x)$ is problem specific, for least-squares regression one usually chooses the mean of the target values."
   ]
  },
  {
   "cell_type": "markdown",
   "metadata": {
    "id": "bJY6lpLQiGLX"
   },
   "source": [
    "To solve the task above we should divide into two parts:\n",
    "\n",
    "- At the beggining we should find values $s_i$, which our random trees should have on the data $x_i$, i.e. $s_i = h(x_i)$. To solve this task we should find minimum of $F(s):$ \n",
    "$$F(s) =  \\sum_{i=1}^{n} L(y_i, f_{m-1}(x_i) + s_i)).$$ Here $s = (s_1, s_2, ... , s_n)$. As we know from the math, the gradient of the function will show the direction of the highest increasing of the function. Since we want to minimize the function, we should go in the direction, which is opposite to the gradient. This direction is also-called **antigradient**. Currently $s = (0, 0, ... , 0)$, because $$F(0) =  \\sum_{i=1}^{n} L(y_i, f_{m-1}(x_i)))$$ So we need to make a gradient step from function $F$ in point $s = (0, 0, ... , 0)$. The gradient step is the next formula: $$s_{new} = s_{old} - \\nabla F(s)|_{s=s_{old}}$$ Since $s_{old} = (0, 0, ... , 0)$, the components of new vector $s$ should be: $$s_i = -\\frac{\\partial L(y_i, f_{m-1}(x_i))}{\\partial f_{m-1}(x_i)}.$$\n",
    "\n",
    "- After that we can find $h_m(x)$ just by solving usual supervised learning task with the data $(x_1, s_1), (x_2, s_2), ..., (x_n, s_n)$. \n",
    "\n",
    "\n",
    "Before the final step in some versions of Gradient Boosting you should find $$\\gamma_m = \\arg\\min_{\\gamma} \\sum_{i=1}^{n} L(y_i, f_{m-1}(x_i)\n",
    "- \\gamma \\frac{\\partial L(y_i, f_{m-1}(x_i))}{\\partial f_{m-1}(x_i)})$$ Finally, $$f_m(x) = f_{m-1}(x) + \\gamma_m h_m(x)$$ \n",
    "\n",
    "\n",
    "\n",
    "Also there can be just simple sum $f_m(x) = f_{m-1}(x) + h_m(x)$"
   ]
  },
  {
   "cell_type": "code",
   "execution_count": 1,
   "metadata": {
    "id": "J-hogeRtcTXH"
   },
   "outputs": [],
   "source": [
    "import numpy as np\n",
    "import pandas as pd\n",
    "import matplotlib.pyplot as plt\n",
    "%matplotlib inline\n",
    "\n",
    "from sklearn.ensemble import GradientBoostingRegressor\n",
    "from sklearn.tree import DecisionTreeRegressor"
   ]
  },
  {
   "cell_type": "markdown",
   "metadata": {
    "id": "dq6D_NWqcTXL"
   },
   "source": [
    "## Example 1: Gradient Boosting for regression"
   ]
  },
  {
   "cell_type": "code",
   "execution_count": 2,
   "metadata": {
    "id": "MW_HdsyncTXM"
   },
   "outputs": [],
   "source": [
    "def get_dataset_1d():\n",
    "    # prepare dataset\n",
    "    n = 1                      # number of features\n",
    "    N = 100**n                 # number of samples\n",
    "    np.random.seed(0)\n",
    "    X = np.random.random((N, n))*3\n",
    "    coeffs = 1 +  2 * np.random.random((n, 1))\n",
    "    y = np.sin(np.matmul(X*X, coeffs)) + np.random.random((N, 1))/3\n",
    "    y = y.ravel()\n",
    "    \n",
    "    return (X, y)\n",
    "    \n",
    "def plot_results(X, y, y_pred, title=''):\n",
    "    plt.plot(X, y, '*b')\n",
    "    plt.plot(X, y_pred, '.r')\n",
    "    plt.title(title)\n",
    "    plt.xlabel('x1')\n",
    "    plt.ylabel('y')\n",
    "\n",
    "    plt.show()"
   ]
  },
  {
   "cell_type": "markdown",
   "metadata": {
    "id": "mdF0Vb9vcTXP"
   },
   "source": [
    "\n",
    "---\n",
    "\n",
    "### Question 1.\n",
    "In the following example a Gradient Boosting regression is performed by only 1 tree and very small shrinkage `learning_rate=1e-10`. The solution looks like a constant.\n",
    "\n",
    "1.1. Why it looks like a constant?\n",
    "<br>\n",
    "1.2. Try to find that constant value taking into account that `loss='squared_error'` and draw it on the same plot."
   ]
  },
  {
   "cell_type": "code",
   "execution_count": 3,
   "metadata": {
    "colab": {
     "base_uri": "https://localhost:8080/",
     "height": 279
    },
    "id": "iUQSSADRcTXQ",
    "outputId": "382731c6-cb0d-47d2-dc3f-091b50c89955",
    "scrolled": true
   },
   "outputs": [
    {
     "data": {
      "image/png": "[encoded data removed]",
      "text/plain": [
       "<Figure size 432x288 with 1 Axes>"
      ]
     },
     "metadata": {
      "needs_background": "light"
     },
     "output_type": "display_data"
    }
   ],
   "source": [
    "X, y = get_dataset_1d()\n",
    "\n",
    "clf = GradientBoostingRegressor(loss='absolute_error', max_depth=1, learning_rate=1e-10, n_estimators=1)\n",
    "clf.fit(X, y)\n",
    "y_pred = clf.predict(X)\n",
    "\n",
    "plot_results(X, y, y_pred)"
   ]
  },
  {
   "cell_type": "markdown",
   "metadata": {
    "id": "4z6MXN9TcTXT"
   },
   "source": [
    "\n",
    "---\n",
    "\n",
    "### Question 2. \n",
    "Solve above question for `loss='absolute_error'`."
   ]
  },
  {
   "cell_type": "markdown",
   "metadata": {
    "id": "H0x2u10TcTXV"
   },
   "source": [
    "\n",
    "---\n",
    "\n",
    "### Question 3. \n",
    "Some managers of industrial Data Science projects said me that each tree in Gradient Boosting is fit to the targets that are simply the differences $y_i-f_{m-1}(x_i)$ between the values $y_i$ and the current approximation $f_{m-1}(x_i)$ found on the previous step $m-1$. When is it correct?"
   ]
  },
  {
   "cell_type": "markdown",
   "metadata": {
    "id": "SdD2dJaLcTXX"
   },
   "source": [
    "\n",
    "---\n",
    "\n",
    "### Question 4*. \n",
    "Actually, the managers from the question above said not only to what the trees are fit but also that the current solution is updated by simply adding each new tree multiplied by a shrinkage parameter and ignore any sophisticated math! :[]\n",
    "\n",
    "The following code shows 2 ways of using the Gradient Boosting for regression:\n",
    "1. Using the class `GradientBoostingRegressor()` - as it should be done if you use scikit-learn\n",
    "2. Our own implementation by adding a tree step by step with shrinkage\n",
    "\n",
    "Ensure that the pictures are the same no matter how you change the hyperparameters `max_depth`, `n_estimators` and `learning_rate`!\n",
    "\n",
    "In our implementation we fit each tree to the targets $y_i-f_{m-1}(x_i)$ (if you answered on the above question you know that it is correct here) multiply by shrinkage $\\gamma_{m}$ and add to the current model. But it seems that something is missing in our code. No matter how exactly the Gradient Boosting is implemented in scikit-learn, there are many slightly different variants. Assume that it is as described here https://scikit-learn.org/stable/modules/ensemble.html#mathematical-formulation, where the steepest descent chooses the optimal step length\n",
    "$$\n",
    "\\gamma_m = \\arg\\min_{\\gamma} \\sum_{i=1}^{n} \n",
    "L\n",
    "\\left(\n",
    "y_i, f_{m-1}(x_i)\n",
    "- \\gamma \\nabla_F L(y_i, f_{m-1}(x_i))\n",
    "\\right),\n",
    "$$\n",
    "which is used for the model update\n",
    "$$\n",
    "f_m(x) = f_{m-1}(x) - \\gamma_m \\sum_{i=1}^{n} \\nabla_F L(y_i, f_{m-1}(x_i)).\n",
    "$$\n",
    "But we did not implement it! Justify the correctness of our easy implementation of GB."
   ]
  },
  {
   "cell_type": "code",
   "execution_count": 4,
   "metadata": {
    "colab": {
     "base_uri": "https://localhost:8080/",
     "height": 573
    },
    "id": "zWi2oLtQcTXY",
    "outputId": "c1c3c096-0a45-4b57-8328-46ff025e51fb"
   },
   "outputs": [
    {
     "data": {
      "image/png": "[encoded data removed]",
      "text/plain": [
       "<Figure size 432x288 with 1 Axes>"
      ]
     },
     "metadata": {
      "needs_background": "light"
     },
     "output_type": "display_data"
    },
    {
     "data": {
      "image/png": "[encoded data removed]",
      "text/plain": [
       "<Figure size 432x288 with 1 Axes>"
      ]
     },
     "metadata": {
      "needs_background": "light"
     },
     "output_type": "display_data"
    }
   ],
   "source": [
    "X, y = get_dataset_1d()\n",
    "\n",
    "max_depth = 1\n",
    "n_estimators = 50\n",
    "learning_rate = 1 # 0.8                            # shrinkage\n",
    "\n",
    "# usual Gradient Boosting call\n",
    "clf = GradientBoostingRegressor(loss='squared_error', max_depth=max_depth, learning_rate=learning_rate, n_estimators=n_estimators)\n",
    "clf.fit(X, y)\n",
    "f = clf.predict(X)\n",
    "plot_results(X, y, f, 'Gradient Boosting from scikit-learn')\n",
    "\n",
    "# my Gradient Boosting implementation\n",
    "clf = DecisionTreeRegressor(max_depth=max_depth)\n",
    "f = np.mean(y)                      # initialization\n",
    "for m in range(1, n_estimators+1):\n",
    "    f = f + clf.fit(X, y - f).predict(X) * learning_rate # fit to the difference and shrink\n",
    "plot_results(X, y, f, 'My simple Gradient Boosting, the same as above!')"
   ]
  },
  {
   "cell_type": "markdown",
   "metadata": {
    "id": "JJK1f9XDcTXb"
   },
   "source": [
    "## Example 2: Gradient Boosting for classification.\n",
    "\n",
    "Let's return to the task from the previous seminar and try to solve it using gradient boosting!"
   ]
  },
  {
   "cell_type": "markdown",
   "metadata": {
    "id": "pWIF7kjlyvat"
   },
   "source": [
    "### 1. EDA and Data preprocessing"
   ]
  },
  {
   "cell_type": "code",
   "execution_count": 5,
   "metadata": {
    "id": "Bu59fC0hcTXb"
   },
   "outputs": [],
   "source": [
    "rand_state = 123"
   ]
  },
  {
   "cell_type": "code",
   "execution_count": 6,
   "metadata": {
    "id": "q5GgDDSwylId"
   },
   "outputs": [],
   "source": [
    "df_train = pd.read_csv('https://raw.githubusercontent.com/adasegroup/ML2022_seminars/master/seminar5/give_me_some_credit.csv', index_col=0)"
   ]
  },
  {
   "cell_type": "code",
   "execution_count": 7,
   "metadata": {
    "id": "1ho6J-VHymmG"
   },
   "outputs": [],
   "source": [
    "df_kaggle_test = pd.read_csv('https://raw.githubusercontent.com/Astralex98/Give-me-some-credit-Kaggle-/main/cs-test.csv', index_col=0)"
   ]
  },
  {
   "cell_type": "code",
   "execution_count": 8,
   "metadata": {
    "colab": {
     "base_uri": "https://localhost:8080/"
    },
    "id": "3j22Lmt0yn2f",
    "outputId": "59b0fda6-eec6-480b-b94d-29cdfadc5ab6"
   },
   "outputs": [
    {
     "name": "stdout",
     "output_type": "stream",
     "text": [
      "<class 'pandas.core.frame.DataFrame'>\n",
      "Int64Index: 101503 entries, 1 to 101503\n",
      "Data columns (total 11 columns):\n",
      " #   Column                                Non-Null Count   Dtype  \n",
      "---  ------                                --------------   -----  \n",
      " 0   SeriousDlqin2yrs                      0 non-null       float64\n",
      " 1   RevolvingUtilizationOfUnsecuredLines  101503 non-null  float64\n",
      " 2   age                                   101503 non-null  int64  \n",
      " 3   NumberOfTime30-59DaysPastDueNotWorse  101503 non-null  int64  \n",
      " 4   DebtRatio                             101503 non-null  float64\n",
      " 5   MonthlyIncome                         81400 non-null   float64\n",
      " 6   NumberOfOpenCreditLinesAndLoans       101503 non-null  int64  \n",
      " 7   NumberOfTimes90DaysLate               101503 non-null  int64  \n",
      " 8   NumberRealEstateLoansOrLines          101503 non-null  int64  \n",
      " 9   NumberOfTime60-89DaysPastDueNotWorse  101503 non-null  int64  \n",
      " 10  NumberOfDependents                    98877 non-null   float64\n",
      "dtypes: float64(5), int64(6)\n",
      "memory usage: 9.3 MB\n"
     ]
    }
   ],
   "source": [
    "df_kaggle_test.info()"
   ]
  },
  {
   "cell_type": "code",
   "execution_count": 9,
   "metadata": {
    "id": "kcrr7e-9ypva"
   },
   "outputs": [],
   "source": [
    "# There are no any labels in test, so we just remove this column\n",
    "df_kaggle_test = df_kaggle_test.drop(['SeriousDlqin2yrs'], axis=1)"
   ]
  },
  {
   "cell_type": "code",
   "execution_count": 10,
   "metadata": {
    "colab": {
     "base_uri": "https://localhost:8080/"
    },
    "id": "ndUn7b7Eyp07",
    "outputId": "116cccda-76f8-4037-9f8d-33916bcaf44e"
   },
   "outputs": [
    {
     "name": "stdout",
     "output_type": "stream",
     "text": [
      "<class 'pandas.core.frame.DataFrame'>\n",
      "Int64Index: 150000 entries, 1 to 150000\n",
      "Data columns (total 11 columns):\n",
      " #   Column                                Non-Null Count   Dtype  \n",
      "---  ------                                --------------   -----  \n",
      " 0   SeriousDlqin2yrs                      150000 non-null  int64  \n",
      " 1   RevolvingUtilizationOfUnsecuredLines  150000 non-null  float64\n",
      " 2   age                                   150000 non-null  int64  \n",
      " 3   NumberOfTime30-59DaysPastDueNotWorse  150000 non-null  int64  \n",
      " 4   DebtRatio                             150000 non-null  float64\n",
      " 5   MonthlyIncome                         120269 non-null  float64\n",
      " 6   NumberOfOpenCreditLinesAndLoans       150000 non-null  int64  \n",
      " 7   NumberOfTimes90DaysLate               150000 non-null  int64  \n",
      " 8   NumberRealEstateLoansOrLines          150000 non-null  int64  \n",
      " 9   NumberOfTime60-89DaysPastDueNotWorse  150000 non-null  int64  \n",
      " 10  NumberOfDependents                    146076 non-null  float64\n",
      "dtypes: float64(4), int64(7)\n",
      "memory usage: 13.7 MB\n"
     ]
    }
   ],
   "source": [
    "df_train.info()"
   ]
  },
  {
   "cell_type": "code",
   "execution_count": 11,
   "metadata": {
    "colab": {
     "base_uri": "https://localhost:8080/"
    },
    "id": "0EksNMIRyx8y",
    "outputId": "f3b9e2b1-f978-4cd1-b79e-286afc07c0e9"
   },
   "outputs": [
    {
     "data": {
      "text/plain": [
       "0    139974\n",
       "1     10026\n",
       "Name: SeriousDlqin2yrs, dtype: int64"
      ]
     },
     "execution_count": 11,
     "metadata": {},
     "output_type": "execute_result"
    }
   ],
   "source": [
    "# Check for imbalance\n",
    "df_train['SeriousDlqin2yrs'].value_counts()"
   ]
  },
  {
   "cell_type": "markdown",
   "metadata": {
    "id": "dCEUCxDKy0ef"
   },
   "source": [
    "**Summary of quick EDA:**\n",
    "\n",
    "1. There are some missing values\n",
    "\n",
    "2. Our classification task is highly imbalanced"
   ]
  },
  {
   "cell_type": "markdown",
   "metadata": {
    "id": "lktpqbZG5fjA"
   },
   "source": [
    "#### 1.1 Missing values"
   ]
  },
  {
   "cell_type": "markdown",
   "metadata": {
    "id": "LKm934315lgs"
   },
   "source": [
    "Since random forests can't deal with NaNs, we should somehow deal with them. About strategies for dealing with missing values:https://towardsdatascience.com/7-ways-to-handle-missing-values-in-machine-learning-1a6326adf79e "
   ]
  },
  {
   "cell_type": "markdown",
   "metadata": {
    "id": "HoHmJdD75mZw"
   },
   "source": [
    "We can see, that features **MonthlyIncome**(20%) and **NumberOfDependents** (3%) have some missing values. From our intuition we can understand that **MonthlyIncome** is highly important feature for our task. Consequently, dropping those data-points could be a not a good idea. Now, for the sake of simplicity, we can just impute NaNs with means of corresponding features."
   ]
  },
  {
   "cell_type": "code",
   "execution_count": 12,
   "metadata": {
    "id": "oOItFg115i6D"
   },
   "outputs": [],
   "source": [
    "# Method to preprocess data\n",
    "def df_remove_nans(df):\n",
    "\n",
    "  # Deal with NaNs\n",
    "  df[\"MonthlyIncome\"] = df[\"MonthlyIncome\"].replace(np.NaN,  df[\"MonthlyIncome\"].mean())\n",
    "  df[\"NumberOfDependents\"] = df[\"NumberOfDependents\"].replace(np.NaN,  df[\"NumberOfDependents\"].mean())\n",
    "\n",
    "  # small check for NaNs\n",
    "  if ((df[\"MonthlyIncome\"].isnull().values.any() == True) or (df[\"NumberOfDependents\"].isnull().values.any())):\n",
    "    print(\"There are some NaNs here!\")\n",
    "    return None\n",
    "  \n",
    "  return df"
   ]
  },
  {
   "cell_type": "code",
   "execution_count": 13,
   "metadata": {
    "id": "QxjOvfBXOkts"
   },
   "outputs": [],
   "source": [
    "# remove nans data\n",
    "df_train = df_remove_nans(df_train)\n",
    "X_kaggle_test = df_remove_nans(df_kaggle_test)"
   ]
  },
  {
   "cell_type": "markdown",
   "metadata": {
    "id": "vmvXcuMnP68m"
   },
   "source": [
    "### 2. Dividing data into train and test"
   ]
  },
  {
   "cell_type": "code",
   "execution_count": 14,
   "metadata": {
    "id": "3NTqYbSby9ZE"
   },
   "outputs": [],
   "source": [
    "from sklearn.model_selection import train_test_split"
   ]
  },
  {
   "cell_type": "code",
   "execution_count": 15,
   "metadata": {
    "id": "xpKELqV4zaIk"
   },
   "outputs": [],
   "source": [
    "X_train, X_test, y_train, y_test = train_test_split(df_train.drop(['SeriousDlqin2yrs'], axis=1), df_train['SeriousDlqin2yrs'], test_size = 0.3, random_state=rand_state, shuffle = True)"
   ]
  },
  {
   "cell_type": "code",
   "execution_count": 16,
   "metadata": {
    "id": "x6Q0BYFyy9b4"
   },
   "outputs": [],
   "source": [
    " # use only each 10th sample to save a time\n",
    "X_train = X_train.iloc[::10, :]\n",
    "y_train = y_train.iloc[::10] "
   ]
  },
  {
   "cell_type": "code",
   "execution_count": 17,
   "metadata": {
    "id": "4ym7xpE-y9es"
   },
   "outputs": [],
   "source": [
    "n_features = X_train.shape[1]"
   ]
  },
  {
   "cell_type": "markdown",
   "metadata": {
    "id": "e0TdHHjnzelG"
   },
   "source": [
    "### 3. Training"
   ]
  },
  {
   "cell_type": "code",
   "execution_count": 18,
   "metadata": {
    "id": "pZgKepRf42UE"
   },
   "outputs": [],
   "source": [
    "from sklearn.model_selection import RandomizedSearchCV\n",
    "from sklearn.metrics import roc_curve, roc_auc_score"
   ]
  },
  {
   "cell_type": "code",
   "execution_count": 19,
   "metadata": {
    "id": "JWBZAm7kzn5e"
   },
   "outputs": [],
   "source": [
    "from sklearn.ensemble import GradientBoostingClassifier"
   ]
  },
  {
   "cell_type": "code",
   "execution_count": 20,
   "metadata": {
    "id": "xxGT8fADzkcG"
   },
   "outputs": [],
   "source": [
    "clf = GradientBoostingClassifier(random_state=rand_state)"
   ]
  },
  {
   "cell_type": "code",
   "execution_count": 21,
   "metadata": {
    "id": "V1fwTQoY0fnX"
   },
   "outputs": [],
   "source": [
    "param_grid = {'n_estimators' : [20, 30, 40], \n",
    "              'max_depth': [2, 5, 7, 9], \n",
    "              'max_features': ['log2', 'sqrt', n_features], \n",
    "              'learning_rate': [0.05, 0.075, 0.1, 0.25, 0.5, 0.75, 1]}"
   ]
  },
  {
   "cell_type": "code",
   "execution_count": 22,
   "metadata": {
    "id": "sdpy7CX-zgxe"
   },
   "outputs": [],
   "source": [
    "clf = RandomizedSearchCV(clf, param_grid, cv=5, scoring='roc_auc', n_iter = 10, random_state = rand_state)"
   ]
  },
  {
   "cell_type": "code",
   "execution_count": 23,
   "metadata": {
    "colab": {
     "base_uri": "https://localhost:8080/"
    },
    "id": "yBijqInV1JSU",
    "outputId": "df4029ae-9b07-4915-b7d4-e97595fc2289"
   },
   "outputs": [
    {
     "name": "stdout",
     "output_type": "stream",
     "text": [
      "CPU times: user 32.7 s, sys: 30.4 ms, total: 32.7 s\n",
      "Wall time: 32.9 s\n"
     ]
    },
    {
     "data": {
      "text/plain": [
       "RandomizedSearchCV(cv=5, estimator=GradientBoostingClassifier(random_state=123),\n",
       "                   param_distributions={'learning_rate': [0.05, 0.075, 0.1,\n",
       "                                                          0.25, 0.5, 0.75, 1],\n",
       "                                        'max_depth': [2, 5, 7, 9],\n",
       "                                        'max_features': ['log2', 'sqrt', 10],\n",
       "                                        'n_estimators': [20, 30, 40]},\n",
       "                   random_state=123, scoring='roc_auc')"
      ]
     },
     "execution_count": 23,
     "metadata": {},
     "output_type": "execute_result"
    }
   ],
   "source": [
    "%%time\n",
    "clf.fit(X_train, y_train)"
   ]
  },
  {
   "cell_type": "markdown",
   "metadata": {
    "id": "E3AFOwp-reQI"
   },
   "source": [
    "### 4. Feature importance and feature selection"
   ]
  },
  {
   "cell_type": "markdown",
   "metadata": {
    "id": "0u5jlADj_Uup"
   },
   "source": [
    "**1. Feature selection**\n",
    "\n",
    "We try to find the most important features.\n",
    "\n",
    "**2. Dimensionality reduction**\n",
    "\n",
    "We have a lot of useful features and for some reasons we want to reduce the number of used features.\n",
    "\n",
    "**3. Feature generation**\n",
    "\n",
    "We want to create a feature description for an object (e.g. image).\n",
    "Earlier scientists used some handcrafted features (e.g. HoG). Now neural networks create features automatically.\n",
    "\n"
   ]
  },
  {
   "cell_type": "code",
   "execution_count": 24,
   "metadata": {
    "id": "_-Df2f-Qt2MG"
   },
   "outputs": [],
   "source": [
    "from sklearn.feature_selection import SelectFromModel"
   ]
  },
  {
   "cell_type": "code",
   "execution_count": 25,
   "metadata": {
    "id": "yPca5X19rmxD"
   },
   "outputs": [],
   "source": [
    "# Fit model using each importance as a threshold\n",
    "model = clf.best_estimator_\n",
    "\n",
    "# Weights of each feature are thresholds\n",
    "thresholds = sorted(model.feature_importances_)"
   ]
  },
  {
   "cell_type": "code",
   "execution_count": 26,
   "metadata": {
    "id": "i4_MpqTp7HXG"
   },
   "outputs": [],
   "source": [
    "# Here we collect the auc score for corresponding set of features, whos importance\n",
    "# is higher than a current threshold\n",
    "aucs_list = []"
   ]
  },
  {
   "cell_type": "code",
   "execution_count": 27,
   "metadata": {
    "colab": {
     "base_uri": "https://localhost:8080/"
    },
    "id": "uxQfU5Rgrm2m",
    "outputId": "a699de0f-014f-404e-8b41-5257ab579f19"
   },
   "outputs": [
    {
     "name": "stderr",
     "output_type": "stream",
     "text": [
      "/usr/local/lib/python3.8/dist-packages/sklearn/base.py:443: UserWarning: X has feature names, but SelectFromModel was fitted without feature names\n",
      "  warnings.warn(\n",
      "/usr/local/lib/python3.8/dist-packages/sklearn/base.py:443: UserWarning: X has feature names, but SelectFromModel was fitted without feature names\n",
      "  warnings.warn(\n",
      "/usr/local/lib/python3.8/dist-packages/sklearn/base.py:443: UserWarning: X has feature names, but SelectFromModel was fitted without feature names\n",
      "  warnings.warn(\n",
      "/usr/local/lib/python3.8/dist-packages/sklearn/base.py:443: UserWarning: X has feature names, but SelectFromModel was fitted without feature names\n",
      "  warnings.warn(\n",
      "/usr/local/lib/python3.8/dist-packages/sklearn/base.py:443: UserWarning: X has feature names, but SelectFromModel was fitted without feature names\n",
      "  warnings.warn(\n",
      "/usr/local/lib/python3.8/dist-packages/sklearn/base.py:443: UserWarning: X has feature names, but SelectFromModel was fitted without feature names\n",
      "  warnings.warn(\n",
      "/usr/local/lib/python3.8/dist-packages/sklearn/base.py:443: UserWarning: X has feature names, but SelectFromModel was fitted without feature names\n",
      "  warnings.warn(\n",
      "/usr/local/lib/python3.8/dist-packages/sklearn/base.py:443: UserWarning: X has feature names, but SelectFromModel was fitted without feature names\n",
      "  warnings.warn(\n",
      "/usr/local/lib/python3.8/dist-packages/sklearn/base.py:443: UserWarning: X has feature names, but SelectFromModel was fitted without feature names\n",
      "  warnings.warn(\n",
      "/usr/local/lib/python3.8/dist-packages/sklearn/base.py:443: UserWarning: X has feature names, but SelectFromModel was fitted without feature names\n",
      "  warnings.warn(\n",
      "/usr/local/lib/python3.8/dist-packages/sklearn/base.py:443: UserWarning: X has feature names, but SelectFromModel was fitted without feature names\n",
      "  warnings.warn(\n",
      "/usr/local/lib/python3.8/dist-packages/sklearn/base.py:443: UserWarning: X has feature names, but SelectFromModel was fitted without feature names\n",
      "  warnings.warn(\n",
      "/usr/local/lib/python3.8/dist-packages/sklearn/base.py:443: UserWarning: X has feature names, but SelectFromModel was fitted without feature names\n",
      "  warnings.warn(\n",
      "/usr/local/lib/python3.8/dist-packages/sklearn/base.py:443: UserWarning: X has feature names, but SelectFromModel was fitted without feature names\n",
      "  warnings.warn(\n",
      "/usr/local/lib/python3.8/dist-packages/sklearn/base.py:443: UserWarning: X has feature names, but SelectFromModel was fitted without feature names\n",
      "  warnings.warn(\n",
      "/usr/local/lib/python3.8/dist-packages/sklearn/base.py:443: UserWarning: X has feature names, but SelectFromModel was fitted without feature names\n",
      "  warnings.warn(\n",
      "/usr/local/lib/python3.8/dist-packages/sklearn/base.py:443: UserWarning: X has feature names, but SelectFromModel was fitted without feature names\n",
      "  warnings.warn(\n",
      "/usr/local/lib/python3.8/dist-packages/sklearn/base.py:443: UserWarning: X has feature names, but SelectFromModel was fitted without feature names\n",
      "  warnings.warn(\n",
      "/usr/local/lib/python3.8/dist-packages/sklearn/base.py:443: UserWarning: X has feature names, but SelectFromModel was fitted without feature names\n",
      "  warnings.warn(\n"
     ]
    },
    {
     "name": "stdout",
     "output_type": "stream",
     "text": [
      "CPU times: user 10.9 s, sys: 31.1 ms, total: 11 s\n",
      "Wall time: 11 s\n"
     ]
    },
    {
     "name": "stderr",
     "output_type": "stream",
     "text": [
      "/usr/local/lib/python3.8/dist-packages/sklearn/base.py:443: UserWarning: X has feature names, but SelectFromModel was fitted without feature names\n",
      "  warnings.warn(\n"
     ]
    }
   ],
   "source": [
    "%%time\n",
    "for thresh in thresholds:\n",
    " # select features using threshold\n",
    " selection = SelectFromModel(model, threshold=thresh, prefit=True)\n",
    " select_X_train = selection.transform(X_train)\n",
    "\n",
    " # train model\n",
    " new_clf = GradientBoostingClassifier(random_state=rand_state)\n",
    " new_clf.fit(select_X_train, y_train)\n",
    "\n",
    " # eval model\n",
    " select_X_test = selection.transform(X_test)\n",
    " y_predict_proba = new_clf.predict_proba(select_X_test)\n",
    " roc_auc = roc_auc_score(y_test, y_predict_proba[:, 1])\n",
    " aucs_list.append((thresh, select_X_train.shape[1], roc_auc))"
   ]
  },
  {
   "cell_type": "code",
   "execution_count": 28,
   "metadata": {
    "colab": {
     "base_uri": "https://localhost:8080/"
    },
    "id": "y16zFeZZtvq0",
    "outputId": "d5545ae5-5334-4fb7-82ec-992c6c248bf9"
   },
   "outputs": [
    {
     "name": "stdout",
     "output_type": "stream",
     "text": [
      "Thresh=0.032, n=10, AUC: 0.86436\n",
      "Thresh=0.035, n=9, AUC: 0.86389\n",
      "Thresh=0.054, n=8, AUC: 0.86295\n",
      "Thresh=0.077, n=7, AUC: 0.86087\n",
      "Thresh=0.089, n=6, AUC: 0.86031\n",
      "Thresh=0.096, n=5, AUC: 0.85876\n",
      "Thresh=0.101, n=4, AUC: 0.85158\n",
      "Thresh=0.109, n=3, AUC: 0.85005\n",
      "Thresh=0.192, n=2, AUC: 0.82451\n",
      "Thresh=0.216, n=1, AUC: 0.66408\n"
     ]
    }
   ],
   "source": [
    "for elem in aucs_list:\n",
    "  thresh, num_features, roc_auc = elem\n",
    "  print(\"Thresh=%.3f, n=%d, AUC: %.5f\" % (thresh, num_features, roc_auc))"
   ]
  },
  {
   "cell_type": "markdown",
   "metadata": {
    "id": "W_IoY7ur-jeh"
   },
   "source": [
    "You can see, that if we will use even 2 features the final AUC will be only on 0.04 worser than if we take 10 features. In current task we have not much features, consequently, we don't need to reduce number of features. But in some cases there could be too much features and you will need to select from them the most important ones."
   ]
  },
  {
   "cell_type": "markdown",
   "metadata": {
    "id": "U3uZMcl01Ss2"
   },
   "source": [
    "### 5. Evaluating"
   ]
  },
  {
   "cell_type": "code",
   "execution_count": 29,
   "metadata": {
    "id": "ct73Wi9Q1JVG"
   },
   "outputs": [],
   "source": [
    "def plot_roc_curve(clf, x, y):\n",
    "  plt.figure(figsize=[9, 6])\n",
    "  fpr, tpr, _ = roc_curve(y, clf.predict_proba(x)[:, 1])\n",
    "  plt.plot(fpr, tpr, 'r', label='train')\n",
    "  plt.title('ROC curve')\n",
    "  plt.xlabel('False positive rate')\n",
    "  plt.ylabel('True positive rate')\n",
    "  plt.show()"
   ]
  },
  {
   "cell_type": "code",
   "execution_count": 30,
   "metadata": {
    "colab": {
     "base_uri": "https://localhost:8080/"
    },
    "id": "jS_BCyagWguc",
    "outputId": "c2bd468e-1c16-4356-9f6f-e067ad4a85ef"
   },
   "outputs": [
    {
     "name": "stdout",
     "output_type": "stream",
     "text": [
      "Random search with roc_auc\n",
      "Best parameters: {'n_estimators': 40, 'max_features': 'log2', 'max_depth': 7, 'learning_rate': 0.05}\n",
      "Best cross-validation score (auc_roc)): 0.839\n",
      "Test set AUC: 0.863\n"
     ]
    }
   ],
   "source": [
    "print(\"Random search with roc_auc\")\n",
    "print(\"Best parameters:\", clf.best_params_)\n",
    "print(\"Best cross-validation score (auc_roc)): {:.3f}\".format(clf.best_score_))\n",
    "print(\"Test set AUC: {:.3f}\".format(roc_auc_score(y_test, clf.predict_proba(X_test)[:, 1])))"
   ]
  },
  {
   "cell_type": "code",
   "execution_count": 31,
   "metadata": {
    "colab": {
     "base_uri": "https://localhost:8080/",
     "height": 404
    },
    "id": "CzrDV0OA1VTK",
    "outputId": "eae5d427-d628-4586-c779-b245afa69541"
   },
   "outputs": [
    {
     "data": {
      "image/png": "[encoded data removed]",
      "text/plain": [
       "<Figure size 648x432 with 1 Axes>"
      ]
     },
     "metadata": {
      "needs_background": "light"
     },
     "output_type": "display_data"
    }
   ],
   "source": [
    "plot_roc_curve(clf, X_test, y_test)"
   ]
  },
  {
   "cell_type": "markdown",
   "metadata": {
    "id": "3rgzPtxs1YPe"
   },
   "source": [
    "### 5. Create submission to Kaggle"
   ]
  },
  {
   "cell_type": "code",
   "execution_count": null,
   "metadata": {
    "id": "DeY9cnta1WeC"
   },
   "outputs": [],
   "source": [
    "predictions = clf.predict_proba(X_kaggle_test)[:, 1]"
   ]
  },
  {
   "cell_type": "code",
   "execution_count": null,
   "metadata": {
    "colab": {
     "base_uri": "https://localhost:8080/"
    },
    "id": "6yPV9t431alu",
    "outputId": "e16fbdc3-3ae5-4fcc-9827-f1f324b05111"
   },
   "outputs": [
    {
     "data": {
      "text/plain": [
       "(101503,)"
      ]
     },
     "execution_count": 33,
     "metadata": {},
     "output_type": "execute_result"
    }
   ],
   "source": [
    "predictions.shape"
   ]
  },
  {
   "cell_type": "code",
   "execution_count": null,
   "metadata": {
    "colab": {
     "base_uri": "https://localhost:8080/",
     "height": 423
    },
    "id": "PVL42n8l1bgp",
    "outputId": "261b0f6c-23c9-404b-de9c-24bca5a7a98e"
   },
   "outputs": [
    {
     "data": {
      "text/html": [
       "\n",
       "  <div id=\"df-1fb702f6-b188-45c6-b813-0886643e7ab6\">\n",
       "    <div class=\"colab-df-container\">\n",
       "      <div>\n",
       "<style scoped>\n",
       "    .dataframe tbody tr th:only-of-type {\n",
       "        vertical-align: middle;\n",
       "    }\n",
       "\n",
       "    .dataframe tbody tr th {\n",
       "        vertical-align: top;\n",
       "    }\n",
       "\n",
       "    .dataframe thead th {\n",
       "        text-align: right;\n",
       "    }\n",
       "</style>\n",
       "<table border=\"1\" class=\"dataframe\">\n",
       "  <thead>\n",
       "    <tr style=\"text-align: right;\">\n",
       "      <th></th>\n",
       "      <th>Id</th>\n",
       "      <th>Probability</th>\n",
       "    </tr>\n",
       "  </thead>\n",
       "  <tbody>\n",
       "    <tr>\n",
       "      <th>0</th>\n",
       "      <td>1</td>\n",
       "      <td>0.075584</td>\n",
       "    </tr>\n",
       "    <tr>\n",
       "      <th>1</th>\n",
       "      <td>2</td>\n",
       "      <td>0.056789</td>\n",
       "    </tr>\n",
       "    <tr>\n",
       "      <th>2</th>\n",
       "      <td>3</td>\n",
       "      <td>0.020939</td>\n",
       "    </tr>\n",
       "    <tr>\n",
       "      <th>3</th>\n",
       "      <td>4</td>\n",
       "      <td>0.048173</td>\n",
       "    </tr>\n",
       "    <tr>\n",
       "      <th>4</th>\n",
       "      <td>5</td>\n",
       "      <td>0.079745</td>\n",
       "    </tr>\n",
       "    <tr>\n",
       "      <th>...</th>\n",
       "      <td>...</td>\n",
       "      <td>...</td>\n",
       "    </tr>\n",
       "    <tr>\n",
       "      <th>101498</th>\n",
       "      <td>101499</td>\n",
       "      <td>0.035984</td>\n",
       "    </tr>\n",
       "    <tr>\n",
       "      <th>101499</th>\n",
       "      <td>101500</td>\n",
       "      <td>0.296324</td>\n",
       "    </tr>\n",
       "    <tr>\n",
       "      <th>101500</th>\n",
       "      <td>101501</td>\n",
       "      <td>0.016545</td>\n",
       "    </tr>\n",
       "    <tr>\n",
       "      <th>101501</th>\n",
       "      <td>101502</td>\n",
       "      <td>0.030896</td>\n",
       "    </tr>\n",
       "    <tr>\n",
       "      <th>101502</th>\n",
       "      <td>101503</td>\n",
       "      <td>0.034720</td>\n",
       "    </tr>\n",
       "  </tbody>\n",
       "</table>\n",
       "<p>101503 rows × 2 columns</p>\n",
       "</div>\n",
       "      <button class=\"colab-df-convert\" onclick=\"convertToInteractive('df-1fb702f6-b188-45c6-b813-0886643e7ab6')\"\n",
       "              title=\"Convert this dataframe to an interactive table.\"\n",
       "              style=\"display:none;\">\n",
       "        \n",
       "  <svg xmlns=\"http://www.w3.org/2000/svg\" height=\"24px\"viewBox=\"0 0 24 24\"\n",
       "       width=\"24px\">\n",
       "    <path d=\"M0 0h24v24H0V0z\" fill=\"none\"/>\n",
       "    <path d=\"M18.56 5.44l.94 2.06.94-2.06 2.06-.94-2.06-.94-.94-2.06-.94 2.06-2.06.94zm-11 1L8.5 8.5l.94-2.06 2.06-.94-2.06-.94L8.5 2.5l-.94 2.06-2.06.94zm10 10l.94 2.06.94-2.06 2.06-.94-2.06-.94-.94-2.06-.94 2.06-2.06.94z\"/><path d=\"M17.41 7.96l-1.37-1.37c-.4-.4-.92-.59-1.43-.59-.52 0-1.04.2-1.43.59L10.3 9.45l-7.72 7.72c-.78.78-.78 2.05 0 2.83L4 21.41c.39.39.9.59 1.41.59.51 0 1.02-.2 1.41-.59l7.78-7.78 2.81-2.81c.8-.78.8-2.07 0-2.86zM5.41 20L4 18.59l7.72-7.72 1.47 1.35L5.41 20z\"/>\n",
       "  </svg>\n",
       "      </button>\n",
       "      \n",
       "  <style>\n",
       "    .colab-df-container {\n",
       "      display:flex;\n",
       "      flex-wrap:wrap;\n",
       "      gap: 12px;\n",
       "    }\n",
       "\n",
       "    .colab-df-convert {\n",
       "      background-color: #E8F0FE;\n",
       "      border: none;\n",
       "      border-radius: 50%;\n",
       "      cursor: pointer;\n",
       "      display: none;\n",
       "      fill: #1967D2;\n",
       "      height: 32px;\n",
       "      padding: 0 0 0 0;\n",
       "      width: 32px;\n",
       "    }\n",
       "\n",
       "    .colab-df-convert:hover {\n",
       "      background-color: #E2EBFA;\n",
       "      box-shadow: 0px 1px 2px rgba(60, 64, 67, 0.3), 0px 1px 3px 1px rgba(60, 64, 67, 0.15);\n",
       "      fill: #174EA6;\n",
       "    }\n",
       "\n",
       "    [theme=dark] .colab-df-convert {\n",
       "      background-color: #3B4455;\n",
       "      fill: #D2E3FC;\n",
       "    }\n",
       "\n",
       "    [theme=dark] .colab-df-convert:hover {\n",
       "      background-color: #434B5C;\n",
       "      box-shadow: 0px 1px 3px 1px rgba(0, 0, 0, 0.15);\n",
       "      filter: drop-shadow(0px 1px 2px rgba(0, 0, 0, 0.3));\n",
       "      fill: #FFFFFF;\n",
       "    }\n",
       "  </style>\n",
       "\n",
       "      <script>\n",
       "        const buttonEl =\n",
       "          document.querySelector('#df-1fb702f6-b188-45c6-b813-0886643e7ab6 button.colab-df-convert');\n",
       "        buttonEl.style.display =\n",
       "          google.colab.kernel.accessAllowed ? 'block' : 'none';\n",
       "\n",
       "        async function convertToInteractive(key) {\n",
       "          const element = document.querySelector('#df-1fb702f6-b188-45c6-b813-0886643e7ab6');\n",
       "          const dataTable =\n",
       "            await google.colab.kernel.invokeFunction('convertToInteractive',\n",
       "                                                     [key], {});\n",
       "          if (!dataTable) return;\n",
       "\n",
       "          const docLinkHtml = 'Like what you see? Visit the ' +\n",
       "            '<a target=\"_blank\" href=https://colab.research.google.com/notebooks/data_table.ipynb>data table notebook</a>'\n",
       "            + ' to learn more about interactive tables.';\n",
       "          element.innerHTML = '';\n",
       "          dataTable['output_type'] = 'display_data';\n",
       "          await google.colab.output.renderOutput(dataTable, element);\n",
       "          const docLink = document.createElement('div');\n",
       "          docLink.innerHTML = docLinkHtml;\n",
       "          element.appendChild(docLink);\n",
       "        }\n",
       "      </script>\n",
       "    </div>\n",
       "  </div>\n",
       "  "
      ],
      "text/plain": [
       "            Id  Probability\n",
       "0            1     0.075584\n",
       "1            2     0.056789\n",
       "2            3     0.020939\n",
       "3            4     0.048173\n",
       "4            5     0.079745\n",
       "...        ...          ...\n",
       "101498  101499     0.035984\n",
       "101499  101500     0.296324\n",
       "101500  101501     0.016545\n",
       "101501  101502     0.030896\n",
       "101502  101503     0.034720\n",
       "\n",
       "[101503 rows x 2 columns]"
      ]
     },
     "execution_count": 34,
     "metadata": {},
     "output_type": "execute_result"
    }
   ],
   "source": [
    "# Save the predictions to a CSV file\n",
    "sub = pd.read_csv('https://raw.githubusercontent.com/Astralex98/Give-me-some-credit-Kaggle-/main/sampleEntry.csv')\n",
    "sub['Probability']=predictions\n",
    "sub.to_csv('MyGBSubmission.csv', index=False)\n",
    "sub"
   ]
  },
  {
   "cell_type": "markdown",
   "metadata": {
    "id": "PrycPtIx7b1t"
   },
   "source": [
    "As a result (if we train on full data) we will have:\n",
    "\n",
    "**Public** score = 0.85957\n",
    "\n",
    "**Private** score = 0.86458"
   ]
  },
  {
   "cell_type": "markdown",
   "metadata": {
    "id": "dwhY4xFp7i_c"
   },
   "source": [
    "You can see that our results were slightly improved with comparison to random forest!"
   ]
  }
 ],
 "metadata": {
  "colab": {
   "provenance": []
  },
  "kernelspec": {
   "display_name": "Python 3",
   "language": "python",
   "name": "python3"
  },
  "language_info": {
   "codemirror_mode": {
    "name": "ipython",
    "version": 3
   },
   "file_extension": ".py",
   "mimetype": "text/x-python",
   "name": "python",
   "nbconvert_exporter": "python",
   "pygments_lexer": "ipython3",
   "version": "3.7.4"
  }
 },
 "nbformat": 4,
 "nbformat_minor": 1
}
