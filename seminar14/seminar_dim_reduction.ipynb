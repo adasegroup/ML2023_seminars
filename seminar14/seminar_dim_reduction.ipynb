{
  "cells": [
    {
      "attachments": {},
      "cell_type": "markdown",
      "metadata": {
        "id": "YV_1sMP6jEEN"
      },
      "source": [
        "<a href=\"https://colab.research.google.com/github/adasegroup/ML2023_seminars/blob/master/seminar14/seminar_dim_reduction.ipynb\" target=\"_parent\"><img src=\"https://colab.research.google.com/assets/colab-badge.svg\" alt=\"Open In Colab\"/></a>"
      ]
    },
    {
      "attachments": {},
      "cell_type": "markdown",
      "metadata": {
        "id": "2dkWV8WJjEEQ"
      },
      "source": [
        "# Seminar: Dimensionality reduction\n",
        "\n",
        "#### Seminar structure:\n",
        "\n",
        "* SVD (Singular Value Decomposition) and PCA (Principal Component Analysis) from scratch\n",
        "* Singular Value Decomposition of an Image.\n",
        "* The ` Olivetti Faces dataset` component analysis.\n",
        "* Instrinsic dimensionality estimation.\n",
        "* Manifold learning.\n",
        "* Autoencoding."
      ]
    },
    {
      "cell_type": "code",
      "execution_count": 1,
      "metadata": {
        "id": "hHydgfwPjEES"
      },
      "outputs": [],
      "source": [
        "#linear algebra\n",
        "import numpy as np\n",
        "#data structures\n",
        "import pandas as pd\n",
        "#ml models\n",
        "import scipy as sp\n",
        "import sklearn\n",
        "#plots\n",
        "import matplotlib.pyplot as plt\n",
        "%matplotlib inline\n",
        "#beautiful plots\n",
        "import seaborn as sns\n",
        "import statsmodels.api as sm\n",
        "#off the warnings\n",
        "import warnings\n",
        "warnings.filterwarnings(\"ignore\")"
      ]
    },
    {
      "cell_type": "markdown",
      "metadata": {
        "id": "cMjFuHcvjEEV"
      },
      "source": [
        "## 1. SVD (Singular Value Decomposition) from the very scratch"
      ]
    },
    {
      "cell_type": "markdown",
      "metadata": {
        "id": "nrHdnG9ZjEEW"
      },
      "source": [
        "The singular value decomposition of a matrix $A$ is the factorization of $A$ into the product of three matrices $A = U\\Sigma V^T$ where the columns of $U$ and $V$ are orthonormal and the matrix $\\Sigma$ is diagonal with positive real entries. "
      ]
    },
    {
      "cell_type": "markdown",
      "metadata": {
        "id": "5fvvRWiXjEEX"
      },
      "source": [
        "$$\n",
        "X= U\\Sigma V^T=\n",
        "  \\begin{matrix}\n",
        "    \\underbrace{\\left[\\begin{matrix} u_1 &  u_2 &  &  u_r\\end{matrix}\\right.}& \n",
        "    \\underbrace{\\left.\\begin{matrix} u_{r+1} & \\dots &   u_m\\end{matrix}\\right]}\\\\\n",
        "    col(X) & null(X^T)\n",
        "  \\end{matrix}\n",
        "  \\begin{bmatrix}\n",
        "      \\sigma_1 & 0 & \\dots & 0 & 0 & \\dots & 0 \\\\\n",
        "         0 & \\sigma_2  & \\dots & 0 & 0 & \\dots & 0 \\\\\n",
        "         \\dots& & & & &  \\\\\n",
        "         0 & 0 & \\dots & \\sigma_r  & 0 & \\dots & 0 \\\\\n",
        "         0 & 0 & \\dots & 0 & 0 & \\dots & 0 \\\\\n",
        "         \\dots& & & & &  \\\\\n",
        "         0 & 0 & \\dots & 0 & 0 & \\dots & 0 \n",
        "  \\end{bmatrix}\n",
        "  \\begin{bmatrix}\n",
        "     v_1^T \\\\  v_2^T \\\\ \\dots \\\\  v_r^T \\\\\n",
        "     v_{r+1}^T \\\\ \\dots \\\\  v_n^T\n",
        "  \\end{bmatrix}\n",
        "  \\begin{matrix}\n",
        "    \\left.\\vphantom{\\begin{bmatrix}\n",
        "       \\ v_1^T \\\\  v_2^T \\\\ \\dots \\\\ \\vect v_r^T \n",
        "       \\end{bmatrix}}\\right\\} row(X) \\\\ \n",
        "    \\left.\\vphantom{\\begin{bmatrix}\n",
        "      \\ v_{r+1}^T \\\\ \\dots \\\\  v_n^T \n",
        "    \\end{bmatrix}}\\right\\} null(X)\n",
        "  \\end{matrix}\n",
        "$$"
      ]
    },
    {
      "cell_type": "markdown",
      "metadata": {
        "id": "r5VrFrcBjEEY"
      },
      "source": [
        "<img src=\"https://www.askpython.com/wp-content/uploads/2020/11/SVD-1.jpg\" alt=\"Drawing\" style=\"width: 300px;\" />\n",
        "Credit for: https://www.askpython.com/wp-content/uploads/2020/11/SVD-1.jpg"
      ]
    },
    {
      "cell_type": "markdown",
      "metadata": {
        "id": "07gbiBkPjEEZ"
      },
      "source": [
        "#### Questions:\n",
        "\n",
        "1. Is `SVD()` use iterative search or there is some closed solution?\n",
        "2. That is the criterion of good decomposition?\n",
        "3. That is the difference of `PCA` and `SVD`?\n",
        "\n",
        "\n",
        "To refresh your math - you can check lectures or [here](https://jonathan-hui.medium.com/machine-learning-singular-value-decomposition-svd-principal-component-analysis-pca-1d45e885e491#:~:text=What%20is%20the%20difference%20between,PCA%20skips%20less%20significant%20components.) "
      ]
    },
    {
      "cell_type": "markdown",
      "metadata": {
        "id": "og7DH4CljEEZ"
      },
      "source": [
        "#### Here we go:"
      ]
    },
    {
      "cell_type": "code",
      "execution_count": 75,
      "metadata": {
        "id": "UkiTbDELjEEb"
      },
      "outputs": [],
      "source": [
        "class MySVD:\n",
        "    \"\"\"\n",
        "    CLass for iterative SVD search\n",
        "    \"\"\"\n",
        "    def __init__(self, tol=1e-10, eigval_thr=1e-10, max_iter=100, random_state=0, verbose=False):\n",
        "        \"\"\"\n",
        "        Arguements:\n",
        "        - tol: tolerance of difference\n",
        "        - eigval_thr: theshold for eigvalues\n",
        "        \n",
        "        \"\"\"\n",
        "        self.tol = tol\n",
        "        self.eigval_thr = eigval_thr\n",
        "        self.max_iter = max_iter\n",
        "        self.gen = np.random.RandomState(random_state)\n",
        "        self.verbose = verbose\n",
        "        \n",
        "    def _initialize(self, X, n_components):\n",
        "        self.X = np.array(X)\n",
        "        assert self.X.ndim == 2\n",
        "        # singular values\n",
        "        self.eig_vals = []\n",
        "        # left singular vectors\n",
        "        self.eig_vecs_left = []\n",
        "        # right singular vectors\n",
        "        self.eig_vecs_right = []\n",
        "        \n",
        "        n_components = self.X.shape[0] if n_components is None else n_components \n",
        "        self.n_components = min(self.X.shape[0], self.X.shape[1], n_components)\n",
        "        \n",
        "    def _make_step(self, X, a, b):\n",
        "        '''\n",
        "        Update left eigen vector `a` and \n",
        "        right eigen vector `b` using \n",
        "        power iteration method\n",
        "        '''\n",
        "        ### YOUR CODE HERE ###\n",
        "        return new_a, new_b\n",
        "        \n",
        "    def __call__(self, X, n_components=None):\n",
        "        self._initialize(X, n_components)\n",
        "        # iteretively search for the components\n",
        "        for n_component in range(self.n_components):\n",
        "            a = ### YOUR CODE HERE ### # left eigen vectors\n",
        "            b = ### YOUR CODE HERE ### # right eigen vectors\n",
        "            \n",
        "            prev_F = ### YOUR CODE HERE ### # calculate Frob norm\n",
        "            delta_F = np.inf\n",
        "            \n",
        "            # stop criterion\n",
        "            for n_iter in range(self.max_iter):\n",
        "                a, b = self._make_step(self.X, a, b)\n",
        "                F = ### YOUR CODE HERE ### # calculate Frob norm\n",
        "                delta = prev_F - F\n",
        "                prev_F = F\n",
        "                self._print('n_eig = {}, n_iter = {}: delta = {:.5f}, F = {:.5f}.'.format(\n",
        "                        len(self.eig_vals), n_iter, delta, F))\n",
        "                if np.abs(delta) <= self.tol:\n",
        "                    self._print('Frobenius norm equals {}. Stopping iterations for n_eig={}.'.format(\n",
        "                        F, len(self.eig_vals)))\n",
        "                    break\n",
        "                    \n",
        "            eig_val = ### YOUR CODE HERE ### # eigen values\n",
        "            # stop criterion\n",
        "            if eig_val < self.eigval_thr:\n",
        "                self._print('Singular value {} equals {}. Stopping iterations.'.format(\n",
        "                    len(self.eig_vals) + 1, eig_val))\n",
        "                break\n",
        "                \n",
        "            self.eig_vals.append(eig_val)\n",
        "            self.eig_vecs_left.append(a[:, None] / np.sqrt(np.sum(a**2)))\n",
        "            self.eig_vecs_right.append(b[:, None] / np.sqrt(np.sum(b**2)))\n",
        "            self.X -= a[:, None] * b[None, :]\n",
        "\n",
        "        self.U = np.hstack(self.eig_vecs_left)\n",
        "        self.V = np.hstack(self.eig_vecs_right)\n",
        "        self.D = np.sqrt(self.eig_vals)\n",
        "        return self.U, self.D, self.V.T\n",
        "    \n",
        "    def _print(self, msg):\n",
        "        if self.verbose:\n",
        "            print(msg)"
      ]
    },
    {
      "cell_type": "code",
      "execution_count": 76,
      "metadata": {
        "colab": {
          "base_uri": "https://localhost:8080/"
        },
        "id": "zgzrGG2ojEEd",
        "outputId": "c703a4c6-6126-4124-da14-ff77f2446a83"
      },
      "outputs": [
        {
          "name": "stdout",
          "output_type": "stream",
          "text": [
            "n_eig = 0, n_iter = 0: delta = 53.76768, F = 70.96546.\n",
            "n_eig = 0, n_iter = 1: delta = 3.88656, F = 67.07890.\n",
            "n_eig = 0, n_iter = 2: delta = 1.83992, F = 65.23898.\n",
            "n_eig = 0, n_iter = 3: delta = 0.92327, F = 64.31571.\n",
            "n_eig = 0, n_iter = 4: delta = 0.60325, F = 63.71246.\n",
            "n_eig = 0, n_iter = 5: delta = 0.46493, F = 63.24753.\n",
            "n_eig = 0, n_iter = 6: delta = 0.38744, F = 62.86009.\n",
            "n_eig = 0, n_iter = 7: delta = 0.33386, F = 62.52622.\n",
            "n_eig = 0, n_iter = 8: delta = 0.28950, F = 62.23672.\n",
            "n_eig = 0, n_iter = 9: delta = 0.24845, F = 61.98828.\n",
            "n_eig = 0, n_iter = 10: delta = 0.20927, F = 61.77901.\n",
            "n_eig = 0, n_iter = 11: delta = 0.17255, F = 61.60646.\n",
            "n_eig = 0, n_iter = 12: delta = 0.13939, F = 61.46707.\n",
            "n_eig = 0, n_iter = 13: delta = 0.11058, F = 61.35649.\n",
            "n_eig = 0, n_iter = 14: delta = 0.08639, F = 61.27010.\n",
            "n_eig = 0, n_iter = 15: delta = 0.06667, F = 61.20343.\n",
            "n_eig = 0, n_iter = 16: delta = 0.05095, F = 61.15248.\n",
            "n_eig = 0, n_iter = 17: delta = 0.03865, F = 61.11383.\n",
            "n_eig = 0, n_iter = 18: delta = 0.02914, F = 61.08469.\n",
            "n_eig = 0, n_iter = 19: delta = 0.02188, F = 61.06281.\n",
            "n_eig = 0, n_iter = 20: delta = 0.01637, F = 61.04644.\n",
            "n_eig = 0, n_iter = 21: delta = 0.01222, F = 61.03422.\n",
            "n_eig = 0, n_iter = 22: delta = 0.00910, F = 61.02512.\n",
            "n_eig = 0, n_iter = 23: delta = 0.00677, F = 61.01835.\n",
            "n_eig = 0, n_iter = 24: delta = 0.00503, F = 61.01332.\n",
            "n_eig = 0, n_iter = 25: delta = 0.00374, F = 61.00958.\n",
            "n_eig = 0, n_iter = 26: delta = 0.00277, F = 61.00681.\n",
            "n_eig = 0, n_iter = 27: delta = 0.00206, F = 61.00475.\n",
            "n_eig = 0, n_iter = 28: delta = 0.00153, F = 61.00323.\n",
            "n_eig = 0, n_iter = 29: delta = 0.00113, F = 61.00209.\n",
            "n_eig = 0, n_iter = 30: delta = 0.00084, F = 61.00126.\n",
            "n_eig = 0, n_iter = 31: delta = 0.00062, F = 61.00063.\n",
            "n_eig = 0, n_iter = 32: delta = 0.00046, F = 61.00017.\n",
            "n_eig = 0, n_iter = 33: delta = 0.00034, F = 60.99983.\n",
            "n_eig = 0, n_iter = 34: delta = 0.00025, F = 60.99958.\n",
            "n_eig = 0, n_iter = 35: delta = 0.00019, F = 60.99939.\n",
            "n_eig = 0, n_iter = 36: delta = 0.00014, F = 60.99925.\n",
            "n_eig = 0, n_iter = 37: delta = 0.00010, F = 60.99915.\n",
            "n_eig = 0, n_iter = 38: delta = 0.00008, F = 60.99908.\n",
            "n_eig = 0, n_iter = 39: delta = 0.00006, F = 60.99902.\n",
            "n_eig = 0, n_iter = 40: delta = 0.00004, F = 60.99898.\n",
            "n_eig = 0, n_iter = 41: delta = 0.00003, F = 60.99895.\n",
            "n_eig = 0, n_iter = 42: delta = 0.00002, F = 60.99892.\n",
            "n_eig = 0, n_iter = 43: delta = 0.00002, F = 60.99891.\n",
            "n_eig = 0, n_iter = 44: delta = 0.00001, F = 60.99889.\n",
            "n_eig = 0, n_iter = 45: delta = 0.00001, F = 60.99888.\n",
            "n_eig = 0, n_iter = 46: delta = 0.00001, F = 60.99888.\n",
            "n_eig = 0, n_iter = 47: delta = 0.00001, F = 60.99887.\n",
            "n_eig = 0, n_iter = 48: delta = 0.00000, F = 60.99887.\n",
            "n_eig = 0, n_iter = 49: delta = 0.00000, F = 60.99887.\n",
            "n_eig = 0, n_iter = 50: delta = 0.00000, F = 60.99886.\n",
            "n_eig = 0, n_iter = 51: delta = 0.00000, F = 60.99886.\n",
            "n_eig = 0, n_iter = 52: delta = 0.00000, F = 60.99886.\n",
            "n_eig = 0, n_iter = 53: delta = 0.00000, F = 60.99886.\n",
            "n_eig = 0, n_iter = 54: delta = 0.00000, F = 60.99886.\n",
            "n_eig = 0, n_iter = 55: delta = 0.00000, F = 60.99886.\n",
            "n_eig = 0, n_iter = 56: delta = 0.00000, F = 60.99886.\n",
            "n_eig = 0, n_iter = 57: delta = 0.00000, F = 60.99886.\n",
            "n_eig = 0, n_iter = 58: delta = 0.00000, F = 60.99886.\n",
            "n_eig = 0, n_iter = 59: delta = 0.00000, F = 60.99886.\n",
            "n_eig = 0, n_iter = 60: delta = 0.00000, F = 60.99886.\n",
            "n_eig = 0, n_iter = 61: delta = 0.00000, F = 60.99886.\n",
            "n_eig = 0, n_iter = 62: delta = 0.00000, F = 60.99886.\n",
            "n_eig = 0, n_iter = 63: delta = 0.00000, F = 60.99886.\n",
            "n_eig = 0, n_iter = 64: delta = 0.00000, F = 60.99886.\n",
            "n_eig = 0, n_iter = 65: delta = 0.00000, F = 60.99886.\n",
            "n_eig = 0, n_iter = 66: delta = 0.00000, F = 60.99886.\n",
            "n_eig = 0, n_iter = 67: delta = 0.00000, F = 60.99886.\n",
            "n_eig = 0, n_iter = 68: delta = 0.00000, F = 60.99886.\n",
            "n_eig = 0, n_iter = 69: delta = 0.00000, F = 60.99886.\n",
            "n_eig = 0, n_iter = 70: delta = 0.00000, F = 60.99886.\n",
            "n_eig = 0, n_iter = 71: delta = 0.00000, F = 60.99886.\n",
            "n_eig = 0, n_iter = 72: delta = 0.00000, F = 60.99886.\n",
            "n_eig = 0, n_iter = 73: delta = 0.00000, F = 60.99886.\n",
            "n_eig = 0, n_iter = 74: delta = 0.00000, F = 60.99886.\n",
            "n_eig = 0, n_iter = 75: delta = 0.00000, F = 60.99886.\n",
            "n_eig = 0, n_iter = 76: delta = 0.00000, F = 60.99886.\n",
            "n_eig = 0, n_iter = 77: delta = 0.00000, F = 60.99886.\n",
            "n_eig = 0, n_iter = 78: delta = 0.00000, F = 60.99886.\n",
            "n_eig = 0, n_iter = 79: delta = 0.00000, F = 60.99886.\n",
            "n_eig = 0, n_iter = 80: delta = 0.00000, F = 60.99886.\n",
            "n_eig = 0, n_iter = 81: delta = 0.00000, F = 60.99886.\n",
            "n_eig = 0, n_iter = 82: delta = 0.00000, F = 60.99886.\n",
            "n_eig = 0, n_iter = 83: delta = 0.00000, F = 60.99886.\n",
            "n_eig = 0, n_iter = 84: delta = 0.00000, F = 60.99886.\n",
            "Frobenius norm equals 60.998857548754884. Stopping iterations for n_eig=0.\n",
            "n_eig = 1, n_iter = 0: delta = 36.72665, F = 38.78533.\n",
            "n_eig = 1, n_iter = 1: delta = 1.10064, F = 37.68469.\n",
            "n_eig = 1, n_iter = 2: delta = 0.40779, F = 37.27690.\n",
            "n_eig = 1, n_iter = 3: delta = 0.19074, F = 37.08616.\n",
            "n_eig = 1, n_iter = 4: delta = 0.10283, F = 36.98334.\n",
            "n_eig = 1, n_iter = 5: delta = 0.05822, F = 36.92512.\n",
            "n_eig = 1, n_iter = 6: delta = 0.03334, F = 36.89177.\n",
            "n_eig = 1, n_iter = 7: delta = 0.01910, F = 36.87267.\n",
            "n_eig = 1, n_iter = 8: delta = 0.01093, F = 36.86175.\n",
            "n_eig = 1, n_iter = 9: delta = 0.00624, F = 36.85551.\n",
            "n_eig = 1, n_iter = 10: delta = 0.00356, F = 36.85195.\n",
            "n_eig = 1, n_iter = 11: delta = 0.00203, F = 36.84992.\n",
            "n_eig = 1, n_iter = 12: delta = 0.00116, F = 36.84876.\n",
            "n_eig = 1, n_iter = 13: delta = 0.00066, F = 36.84810.\n",
            "n_eig = 1, n_iter = 14: delta = 0.00038, F = 36.84772.\n",
            "n_eig = 1, n_iter = 15: delta = 0.00021, F = 36.84751.\n",
            "n_eig = 1, n_iter = 16: delta = 0.00012, F = 36.84739.\n",
            "n_eig = 1, n_iter = 17: delta = 0.00007, F = 36.84732.\n",
            "n_eig = 1, n_iter = 18: delta = 0.00004, F = 36.84728.\n",
            "n_eig = 1, n_iter = 19: delta = 0.00002, F = 36.84726.\n",
            "n_eig = 1, n_iter = 20: delta = 0.00001, F = 36.84724.\n",
            "n_eig = 1, n_iter = 21: delta = 0.00001, F = 36.84724.\n",
            "n_eig = 1, n_iter = 22: delta = 0.00000, F = 36.84723.\n",
            "n_eig = 1, n_iter = 23: delta = 0.00000, F = 36.84723.\n",
            "n_eig = 1, n_iter = 24: delta = 0.00000, F = 36.84723.\n",
            "n_eig = 1, n_iter = 25: delta = 0.00000, F = 36.84723.\n",
            "n_eig = 1, n_iter = 26: delta = 0.00000, F = 36.84723.\n",
            "n_eig = 1, n_iter = 27: delta = 0.00000, F = 36.84723.\n",
            "n_eig = 1, n_iter = 28: delta = 0.00000, F = 36.84723.\n",
            "n_eig = 1, n_iter = 29: delta = 0.00000, F = 36.84723.\n",
            "n_eig = 1, n_iter = 30: delta = 0.00000, F = 36.84723.\n",
            "n_eig = 1, n_iter = 31: delta = 0.00000, F = 36.84723.\n",
            "n_eig = 1, n_iter = 32: delta = 0.00000, F = 36.84723.\n",
            "n_eig = 1, n_iter = 33: delta = 0.00000, F = 36.84723.\n",
            "n_eig = 1, n_iter = 34: delta = 0.00000, F = 36.84723.\n",
            "n_eig = 1, n_iter = 35: delta = 0.00000, F = 36.84723.\n",
            "n_eig = 1, n_iter = 36: delta = 0.00000, F = 36.84723.\n",
            "n_eig = 1, n_iter = 37: delta = 0.00000, F = 36.84723.\n",
            "n_eig = 1, n_iter = 38: delta = 0.00000, F = 36.84723.\n",
            "n_eig = 1, n_iter = 39: delta = 0.00000, F = 36.84723.\n",
            "n_eig = 1, n_iter = 40: delta = 0.00000, F = 36.84723.\n",
            "n_eig = 1, n_iter = 41: delta = 0.00000, F = 36.84723.\n",
            "Frobenius norm equals 36.84722557813247. Stopping iterations for n_eig=1.\n",
            "n_eig = 2, n_iter = 0: delta = 29.35736, F = 23.65723.\n",
            "n_eig = 2, n_iter = 1: delta = 2.75244, F = 20.90480.\n",
            "n_eig = 2, n_iter = 2: delta = 1.51590, F = 19.38889.\n",
            "n_eig = 2, n_iter = 3: delta = 0.53917, F = 18.84972.\n",
            "n_eig = 2, n_iter = 4: delta = 0.16330, F = 18.68641.\n",
            "n_eig = 2, n_iter = 5: delta = 0.04778, F = 18.63864.\n",
            "n_eig = 2, n_iter = 6: delta = 0.01403, F = 18.62461.\n",
            "n_eig = 2, n_iter = 7: delta = 0.00417, F = 18.62044.\n",
            "n_eig = 2, n_iter = 8: delta = 0.00125, F = 18.61919.\n",
            "n_eig = 2, n_iter = 9: delta = 0.00038, F = 18.61881.\n",
            "n_eig = 2, n_iter = 10: delta = 0.00012, F = 18.61869.\n",
            "n_eig = 2, n_iter = 11: delta = 0.00004, F = 18.61866.\n",
            "n_eig = 2, n_iter = 12: delta = 0.00001, F = 18.61865.\n",
            "n_eig = 2, n_iter = 13: delta = 0.00000, F = 18.61864.\n",
            "n_eig = 2, n_iter = 14: delta = 0.00000, F = 18.61864.\n",
            "n_eig = 2, n_iter = 15: delta = 0.00000, F = 18.61864.\n",
            "n_eig = 2, n_iter = 16: delta = 0.00000, F = 18.61864.\n",
            "n_eig = 2, n_iter = 17: delta = 0.00000, F = 18.61864.\n",
            "n_eig = 2, n_iter = 18: delta = 0.00000, F = 18.61864.\n",
            "n_eig = 2, n_iter = 19: delta = 0.00000, F = 18.61864.\n",
            "n_eig = 2, n_iter = 20: delta = 0.00000, F = 18.61864.\n",
            "n_eig = 2, n_iter = 21: delta = 0.00000, F = 18.61864.\n",
            "n_eig = 2, n_iter = 22: delta = 0.00000, F = 18.61864.\n",
            "Frobenius norm equals 18.618641423141966. Stopping iterations for n_eig=2.\n",
            "n_eig = 3, n_iter = 0: delta = 18.26529, F = 8.57183.\n",
            "n_eig = 3, n_iter = 1: delta = 0.03253, F = 8.53930.\n",
            "n_eig = 3, n_iter = 2: delta = 0.02336, F = 8.51594.\n",
            "n_eig = 3, n_iter = 3: delta = 0.01660, F = 8.49934.\n",
            "n_eig = 3, n_iter = 4: delta = 0.01172, F = 8.48762.\n",
            "n_eig = 3, n_iter = 5: delta = 0.00823, F = 8.47939.\n",
            "n_eig = 3, n_iter = 6: delta = 0.00575, F = 8.47364.\n",
            "n_eig = 3, n_iter = 7: delta = 0.00401, F = 8.46963.\n",
            "n_eig = 3, n_iter = 8: delta = 0.00280, F = 8.46683.\n",
            "n_eig = 3, n_iter = 9: delta = 0.00194, F = 8.46489.\n",
            "n_eig = 3, n_iter = 10: delta = 0.00135, F = 8.46353.\n",
            "n_eig = 3, n_iter = 11: delta = 0.00094, F = 8.46259.\n",
            "n_eig = 3, n_iter = 12: delta = 0.00065, F = 8.46194.\n",
            "n_eig = 3, n_iter = 13: delta = 0.00045, F = 8.46149.\n",
            "n_eig = 3, n_iter = 14: delta = 0.00031, F = 8.46118.\n",
            "n_eig = 3, n_iter = 15: delta = 0.00022, F = 8.46096.\n",
            "n_eig = 3, n_iter = 16: delta = 0.00015, F = 8.46081.\n",
            "n_eig = 3, n_iter = 17: delta = 0.00010, F = 8.46070.\n",
            "n_eig = 3, n_iter = 18: delta = 0.00007, F = 8.46063.\n",
            "n_eig = 3, n_iter = 19: delta = 0.00005, F = 8.46058.\n",
            "n_eig = 3, n_iter = 20: delta = 0.00004, F = 8.46054.\n",
            "n_eig = 3, n_iter = 21: delta = 0.00002, F = 8.46052.\n",
            "n_eig = 3, n_iter = 22: delta = 0.00002, F = 8.46050.\n",
            "n_eig = 3, n_iter = 23: delta = 0.00001, F = 8.46049.\n",
            "n_eig = 3, n_iter = 24: delta = 0.00001, F = 8.46048.\n",
            "n_eig = 3, n_iter = 25: delta = 0.00001, F = 8.46048.\n",
            "n_eig = 3, n_iter = 26: delta = 0.00000, F = 8.46047.\n",
            "n_eig = 3, n_iter = 27: delta = 0.00000, F = 8.46047.\n",
            "n_eig = 3, n_iter = 28: delta = 0.00000, F = 8.46047.\n",
            "n_eig = 3, n_iter = 29: delta = 0.00000, F = 8.46047.\n",
            "n_eig = 3, n_iter = 30: delta = 0.00000, F = 8.46047.\n",
            "n_eig = 3, n_iter = 31: delta = 0.00000, F = 8.46047.\n",
            "n_eig = 3, n_iter = 32: delta = 0.00000, F = 8.46047.\n",
            "n_eig = 3, n_iter = 33: delta = 0.00000, F = 8.46047.\n",
            "n_eig = 3, n_iter = 34: delta = 0.00000, F = 8.46047.\n",
            "n_eig = 3, n_iter = 35: delta = 0.00000, F = 8.46046.\n",
            "n_eig = 3, n_iter = 36: delta = 0.00000, F = 8.46046.\n",
            "n_eig = 3, n_iter = 37: delta = 0.00000, F = 8.46046.\n",
            "n_eig = 3, n_iter = 38: delta = 0.00000, F = 8.46046.\n",
            "n_eig = 3, n_iter = 39: delta = 0.00000, F = 8.46046.\n",
            "n_eig = 3, n_iter = 40: delta = 0.00000, F = 8.46046.\n",
            "n_eig = 3, n_iter = 41: delta = 0.00000, F = 8.46046.\n",
            "n_eig = 3, n_iter = 42: delta = 0.00000, F = 8.46046.\n",
            "n_eig = 3, n_iter = 43: delta = 0.00000, F = 8.46046.\n",
            "n_eig = 3, n_iter = 44: delta = 0.00000, F = 8.46046.\n",
            "n_eig = 3, n_iter = 45: delta = 0.00000, F = 8.46046.\n",
            "n_eig = 3, n_iter = 46: delta = 0.00000, F = 8.46046.\n",
            "n_eig = 3, n_iter = 47: delta = 0.00000, F = 8.46046.\n",
            "n_eig = 3, n_iter = 48: delta = 0.00000, F = 8.46046.\n",
            "n_eig = 3, n_iter = 49: delta = 0.00000, F = 8.46046.\n",
            "n_eig = 3, n_iter = 50: delta = 0.00000, F = 8.46046.\n",
            "n_eig = 3, n_iter = 51: delta = 0.00000, F = 8.46046.\n",
            "n_eig = 3, n_iter = 52: delta = 0.00000, F = 8.46046.\n",
            "n_eig = 3, n_iter = 53: delta = 0.00000, F = 8.46046.\n",
            "n_eig = 3, n_iter = 54: delta = 0.00000, F = 8.46046.\n",
            "n_eig = 3, n_iter = 55: delta = 0.00000, F = 8.46046.\n",
            "Frobenius norm equals 8.460464577622655. Stopping iterations for n_eig=3.\n",
            "n_eig = 4, n_iter = 0: delta = 28.47773, F = 0.00000.\n",
            "n_eig = 4, n_iter = 1: delta = 0.00000, F = 0.00000.\n",
            "Frobenius norm equals 1.4831190125031006e-30. Stopping iterations for n_eig=4.\n"
          ]
        }
      ],
      "source": [
        "test_array = np.random.randn(20, 5)\n",
        "u_np, d_np, v_np = ### YOUR CODE HERE ### # compare with np.linalg\n",
        "u, d, v = MySVD(verbose='True')(test_array)\n",
        "\n",
        "assert np.allclose(d, d_np, atol=1e-2)\n",
        "assert np.allclose(np.dot(np.dot(u, np.diag(d)), v), test_array, atol=1e-2)"
      ]
    },
    {
      "cell_type": "code",
      "execution_count": 5,
      "metadata": {
        "id": "HclD5paQjEEf"
      },
      "outputs": [],
      "source": [
        "class MyPCA:\n",
        "    def __init__(self, n_components=10, **svd_kwargs):\n",
        "        self.n_components=n_components\n",
        "        self.svd = MySVD(**svd_kwargs)\n",
        "        \n",
        "    def fit(self, X):\n",
        "        X = np.array(X)\n",
        "        self.n_samples, self.n_features = X.shape\n",
        "        \n",
        "        # centering\n",
        "        self.mean_ = X.mean(axis=0)\n",
        "        X = X - self.mean_[None, :]\n",
        "\n",
        "        \n",
        "        # full variance - as a sum of distances to the center\n",
        "        self.full_variance_ = np.sum(np.mean(X**2, axis=0))\n",
        "        \n",
        "        # SVD\n",
        "        self.U, self.D, self.V = ### YOUR CODE HERE ###\n",
        "        \n",
        "        # eigen vectors X^TX in V.T\n",
        "        self.n_components_ = len(self.D)\n",
        "        self.components_ = self.V\n",
        "        \n",
        "        # the potion of variance eplained\n",
        "        self.explained_variance_ = ### YOUR CODE HERE ###\n",
        "        self.explained_variance_ratio_ = ### YOUR CODE HERE ###\n",
        "\n",
        "    def transform(self, X):\n",
        "        return np.dot(X - self.mean_[None, :], self.components_.T)\n",
        "\n",
        "    def fit_transform(self, X):\n",
        "        self.fit(X)\n",
        "        return self.transform(X)\n",
        "    \n",
        "    def recover(self, X):\n",
        "        return np.dot(X, self.components_) + self.mean_[None, :]"
      ]
    },
    {
      "cell_type": "code",
      "execution_count": 6,
      "metadata": {
        "colab": {
          "base_uri": "https://localhost:8080/",
          "height": 405
        },
        "id": "zOQ5tBJfjEEf",
        "outputId": "ea87288a-a129-49d9-a595-520db93491ed"
      },
      "outputs": [
        {
          "data": {
            "text/plain": [
              "Text(0, 0.5, 'y')"
            ]
          },
          "execution_count": 6,
          "metadata": {},
          "output_type": "execute_result"
        },
        {
          "data": {
            "image/png": "[encoded data removed]",
            "text/plain": [
              "<Figure size 648x432 with 1 Axes>"
            ]
          },
          "metadata": {
            "needs_background": "light"
          },
          "output_type": "display_data"
        }
      ],
      "source": [
        "from sklearn.linear_model import LinearRegression\n",
        "\n",
        "# toy data\n",
        "plt.figure(figsize=(9, 6))\n",
        "np.random.seed(2)\n",
        "X = np.random.randn(200)\n",
        "Y = X + np.random.randn(len(X)) * 0.5\n",
        "model = LinearRegression()\n",
        "model.fit(X.reshape(-1, 1), Y)\n",
        "test_x = np.linspace(-4, 4, 100)\n",
        "predictions = model.predict(test_x.reshape(-1, 1))\n",
        "plt.plot(X, Y, 'o')\n",
        "plt.plot(test_x, predictions, label='No Outliers', color='C0')\n",
        "\n",
        "# add noise\n",
        "sub_inds = np.random.choice(len(X), 10, replace=False)\n",
        "XA = X.copy()\n",
        "YA = Y.copy()\n",
        "YA[sub_inds] = Y[sub_inds] + np.random.rand(len(sub_inds)) * 10\n",
        "model.fit(XA.reshape(-1, 1), YA)\n",
        "predictions = model.predict(test_x.reshape(-1, 1))\n",
        "plt.plot(test_x, predictions, label='With Outliers')\n",
        "plt.plot(XA[sub_inds], YA[sub_inds], 'o', color='C1')\n",
        "plt.legend(loc='best')\n",
        "\n",
        "plt.xlabel('x')\n",
        "plt.ylabel('y')"
      ]
    },
    {
      "cell_type": "code",
      "execution_count": 7,
      "metadata": {
        "colab": {
          "base_uri": "https://localhost:8080/",
          "height": 461
        },
        "id": "SLCrmygqjEEh",
        "outputId": "af6fd61a-1d19-4d42-eb44-920cd3616970"
      },
      "outputs": [
        {
          "name": "stdout",
          "output_type": "stream",
          "text": [
            "Explained variance: [0.84578759 0.15421241]\n",
            "Principal components:\n",
            "First: [0.40260804 0.91537247]\n",
            "Second: [0.40260804 0.91537247]\n"
          ]
        },
        {
          "data": {
            "text/plain": [
              "(-2.997856560392923, 4.447099727814635, -3.156507481358559, 10.378576493695691)"
            ]
          },
          "execution_count": 7,
          "metadata": {},
          "output_type": "execute_result"
        },
        {
          "data": {
            "image/png": "[encoded data removed]",
            "text/plain": [
              "<Figure size 648x432 with 1 Axes>"
            ]
          },
          "metadata": {
            "needs_background": "light"
          },
          "output_type": "display_data"
        }
      ],
      "source": [
        "mean = np.array([0.0, 0.0])\n",
        "cov  = np.array([[1.0, -1.0], \n",
        "                [-2.0, 3.0]])\n",
        "\n",
        "#X = np.random.multivariate_normal(mean, cov, 400)\n",
        "X = np.stack([XA,YA]).T\n",
        "\n",
        "pca = ### YOUR CODE HERE ###\n",
        "pca.fit(X)\n",
        "\n",
        "print(\"Explained variance: {}\".format(pca.explained_variance_ratio_))\n",
        "print(\"Principal components:\")\n",
        "print(\"First: {}\".format(pca.components_[0]))\n",
        "print(\"Second: {}\".format(pca.components_[0]))\n",
        "\n",
        "\n",
        "plt.figure(figsize=(9, 6))\n",
        "\n",
        "plt.scatter(X[:, 0], X[:, 1], s=25, c='r', marker='o', edgecolor='k')\n",
        "\n",
        "for var_ratio, direction in zip(pca.explained_variance_ratio_, pca.components_):\n",
        "    d = 7 * np.sqrt(var_ratio) * direction\n",
        "    plt.plot([0, d[0]], [0, d[1]], '-k', lw=2)\n",
        "\n",
        "plt.axis('equal')"
      ]
    },
    {
      "cell_type": "markdown",
      "metadata": {
        "id": "gD0yNbwCjEEi"
      },
      "source": [
        "##### Watch in the next series (seminar): \"Anomaly detection with PCA\""
      ]
    },
    {
      "cell_type": "markdown",
      "metadata": {
        "id": "-G42Po74jEEi"
      },
      "source": [
        "## 2. Singular Value Decomposition and PCA of an Image for data compression"
      ]
    },
    {
      "cell_type": "code",
      "execution_count": 10,
      "metadata": {
        "id": "Zj44u4dqjEEk"
      },
      "outputs": [],
      "source": [
        "!wget https://github.com/adasegroup/ML2023_seminars/tree/main/seminar14/fruits.png"
      ]
    },
    {
      "cell_type": "code",
      "execution_count": 77,
      "metadata": {
        "id": "o6VqRSYnjEEl"
      },
      "outputs": [],
      "source": [
        "# library for images\n",
        "from PIL import Image\n",
        "\n",
        "img = Image.open('fruits.png')\n",
        "imggray = img.convert('LA')\n",
        "plt.figure(figsize=(9, 6));\n",
        "plt.imshow(img);"
      ]
    },
    {
      "cell_type": "code",
      "execution_count": 78,
      "metadata": {
        "id": "fTNJ0XsHjEEl"
      },
      "outputs": [],
      "source": [
        "imgmat = np.array(list(imggray.getdata(band=0)), float)\n",
        "imgmat.shape = (imggray.size[1], imggray.size[0])\n",
        "imgmat = np.matrix(imgmat)\n",
        "plt.figure(figsize=(9,6))\n",
        "plt.imshow(imgmat, cmap='gray');"
      ]
    },
    {
      "cell_type": "code",
      "execution_count": 16,
      "metadata": {
        "id": "J4P9_D6EjEEm"
      },
      "outputs": [],
      "source": [
        "# you can try this one, yet it converges much longer\n",
        "\n",
        "# U, sigma, V = MySVD(verbose=False)(imgmat)  \n",
        "U, sigma, V = np.linalg.svd(imgmat)\n"
      ]
    },
    {
      "cell_type": "markdown",
      "metadata": {
        "id": "pYrGhm3wjEEm"
      },
      "source": [
        "#### One component of SVD/PCA\n",
        "\n",
        "Computing an approximation of the image using the first column of  $U$  and first row of  $V$  reproduces the most prominent feature of the image, the light area on top and the dark area on the bottom. The darkness of the arch causes the extra darkness in the middle of the reconstruction. Each column of pixels in this image is a different weighting of the same values,  $u_1$ :"
      ]
    },
    {
      "cell_type": "code",
      "execution_count": 79,
      "metadata": {
        "id": "aZDsxBQEjEEn"
      },
      "outputs": [],
      "source": [
        "from sklearn.decomposition import PCA\n",
        "### PCA\n",
        "### YOUR CODE HERE ###\n",
        "\n",
        "### SVD\n",
        "### YOUR CODE HERE ###\n",
        "plt.imshow(reconstimg, cmap='gray');"
      ]
    },
    {
      "cell_type": "markdown",
      "metadata": {
        "id": "SfemwUIpjEEn"
      },
      "source": [
        "If we will be able to see the appearance from 2-m component?"
      ]
    },
    {
      "cell_type": "code",
      "execution_count": 80,
      "metadata": {
        "id": "X8UZpapKjEEn"
      },
      "outputs": [],
      "source": [
        "# for SVD\n",
        "# for i in range(2, 4):\n",
        "#      ### YOUR CODE HERE ###\n",
        "#     plt.imshow(reconstimg, cmap='gray')\n",
        "#     title = \"n = %s\" % i\n",
        "#     plt.title(title)\n",
        "#     plt.show()\n",
        "  \n",
        "# for PCA\n",
        "for i in range(2, 4):\n",
        "     ### YOUR CODE HERE ###\n",
        "    plt.imshow(reconstimg, cmap='gray')\n",
        "    title = \"n = %s\" % i\n",
        "    plt.title(title)\n",
        "    plt.show()"
      ]
    },
    {
      "cell_type": "markdown",
      "metadata": {
        "id": "luyrRuPHjEEo"
      },
      "source": [
        "### Ok, how many do we need?"
      ]
    },
    {
      "cell_type": "code",
      "execution_count": 81,
      "metadata": {
        "id": "U5jn3lijjEEp"
      },
      "outputs": [],
      "source": [
        "# ok how many do we need\n",
        "for i in range(0, 51, 5):\n",
        "    # for SVD\n",
        "    ### YOUR CODE HERE ###\n",
        "    # for PCA\n",
        "    ### YOUR CODE HERE ###\n",
        "    plt.imshow(reconstimg, cmap='gray')\n",
        "    title = \"n = %s\" % i\n",
        "    plt.title(title)\n",
        "    plt.show() "
      ]
    },
    {
      "cell_type": "markdown",
      "metadata": {
        "id": "j7JLFe8RjEEp"
      },
      "source": [
        "**For my perspective, `[:45]` reconstruction os good enough. Thus we can store less data.**\n",
        "\n",
        "Questions: \n",
        "* What portion of the data we can discard this way?\n",
        "* Can we estimate the intrinsic dimension of the image through PCA?"
      ]
    },
    {
      "cell_type": "code",
      "execution_count": 82,
      "metadata": {
        "id": "axMmiVVEjEEp"
      },
      "outputs": [],
      "source": [
        "from sklearn.decomposition import PCA\n",
        "pca = PCA().fit(imgmat)\n",
        "\n",
        "plt.figure(figsize=(14, 4))\n",
        "\n",
        "plt.step(### YOUR CODE HERE ###, label='cumulative explained variance')\n",
        "plt.title('Cumulative explained variance', fontsize=16)\n",
        "plt.xlabel('# principle components', fontsize=12)\n",
        "plt.ylabel('Cumulative explained variance', fontsize=12)\n",
        "\n",
        "plt.legend(loc='lower right')\n",
        "plt.hlines(y=0.95, xmin=0, xmax= len(pca.components_), colors='r', linestyles='dashed', label='95% explained variance')\n",
        "plt.show()"
      ]
    },
    {
      "cell_type": "markdown",
      "metadata": {
        "id": "6OkJIbGqjEEq"
      },
      "source": [
        "## 3. The `Olivetti Faces dataset` component analysis."
      ]
    },
    {
      "cell_type": "code",
      "execution_count": 30,
      "metadata": {
        "id": "ElLD6AIQjEEq"
      },
      "outputs": [],
      "source": [
        "import numpy as np\n",
        "from sklearn.datasets import fetch_olivetti_faces\n",
        "from numpy.random import RandomState\n",
        "\n",
        "\n",
        "data = fetch_olivetti_faces(shuffle=True, random_state= 42 ).data\n",
        "target = fetch_olivetti_faces(shuffle=True, random_state= 42).target\n",
        "\n",
        "#data"
      ]
    },
    {
      "cell_type": "markdown",
      "metadata": {
        "id": "ezCWr9E5L0AZ"
      },
      "source": [
        "Let's look at the dataset"
      ]
    },
    {
      "cell_type": "code",
      "execution_count": 83,
      "metadata": {
        "id": "3wXgaVY_LTjA"
      },
      "outputs": [],
      "source": [
        "plt.figure(figsize=(12, 5))    \n",
        "for i in range(40):\n",
        "    plt.subplot(4, 10, i + 1)\n",
        "    plt.imshow(data[i].reshape((64, 64)), cmap='gray')\n",
        "    plt.axis('off')"
      ]
    },
    {
      "cell_type": "markdown",
      "metadata": {
        "id": "X0cYpWDMM70A"
      },
      "source": [
        "Let's look at the importance of the main components"
      ]
    },
    {
      "cell_type": "code",
      "execution_count": 84,
      "metadata": {
        "id": "bLdu5Zz-M0ix"
      },
      "outputs": [],
      "source": [
        "from sklearn.decomposition import PCA\n",
        "pca = PCA().fit(data)\n",
        "\n",
        "plt.figure(figsize=(14, 4))\n",
        "\n",
        "plt.step(range(len(pca.components_)), np.cumsum(pca.explained_variance_ratio_), label='cumulative explained variance'), ### YOUR CODE HERE ###, label='cumulative explained variance')\n",
        "plt.title('Cumulative explained variance', fontsize=16)\n",
        "plt.xlabel('# principle components', fontsize=12)\n",
        "plt.ylabel('Cumulative explained variance', fontsize=12)\n",
        "\n",
        "plt.legend(loc='lower right')\n",
        "plt.hlines(y=0.95, xmin=0, xmax= len(pca.components_), colors='r', linestyles='dashed', label='95% explained variance')\n",
        "plt.show()"
      ]
    },
    {
      "cell_type": "markdown",
      "metadata": {
        "id": "nwkgnVLRNSqO"
      },
      "source": [
        "Let's look at the principial components"
      ]
    },
    {
      "cell_type": "code",
      "execution_count": 85,
      "metadata": {
        "id": "Ogu1yCghNbpP"
      },
      "outputs": [],
      "source": [
        "plt.figure(figsize=(1, 1))\n",
        "plt.imshow(pca.mean_.reshape((64, 64)), cmap='gray')\n",
        "plt.axis('off')\n",
        "plt.show()\n",
        "\n",
        "plt.figure(figsize=(12, 6))    \n",
        "for i in range(50):\n",
        "    plt.subplot(5, 10, i + 1)\n",
        "    plt.imshow(pca.components_[i].reshape((64, 64)), cmap='gray')\n",
        "    plt.axis('off')"
      ]
    },
    {
      "cell_type": "markdown",
      "metadata": {
        "id": "NJa2GVFyjEEw"
      },
      "source": [
        "Questions:\n",
        "* Who is these criminally looking guys?"
      ]
    },
    {
      "cell_type": "markdown",
      "metadata": {
        "id": "6wgmK0oUONW7"
      },
      "source": [
        "Let's see how does the faces are reconstructed by principial components. For the sake of visibility, we take 10 components, yet is is not enough for good reconstruction:("
      ]
    },
    {
      "cell_type": "code",
      "execution_count": 86,
      "metadata": {
        "id": "Jxl2XE3aOlh1"
      },
      "outputs": [],
      "source": [
        "pca = PCA(n_components=10)\n",
        "transform_X = pca.fit_transform(data)\n",
        "\n",
        "for i in range(10):\n",
        "    X_hat = pca.inverse_transform(transform_X[i]) # YOUR CODE HERE\n",
        "    plt.figure(figsize=(16, 1))\n",
        "    \n",
        "    plt.subplot(1, 13, 1)\n",
        "    plt.imshow(data[i].reshape((64, 64)), cmap='gray')\n",
        "    plt.axis('off')\n",
        "    plt.title('face')\n",
        "    \n",
        "    plt.subplot(1, 13, 2)\n",
        "    plt.imshow(X_hat.reshape((64, 64)), cmap='gray')\n",
        "    plt.axis('off')\n",
        "    plt.title('recon.')\n",
        "    \n",
        "    plt.subplot(1, 13, 3)\n",
        "    plt.imshow(pca.mean_.reshape((64, 64)), cmap='gray')\n",
        "    plt.axis('off')\n",
        "    plt.title('= 1')\n",
        "    \n",
        "    for j in range(10):\n",
        "        plt.subplot(1, 13, 4 + j)\n",
        "        plt.imshow(pca.components_[j].reshape((64, 64)), cmap='gray')\n",
        "        plt.axis('off')\n",
        "        plt.title('{}{:.1f}'.format('+' if transform_X[i, j] >= 0 else '', \n",
        "                                    transform_X[i, j]))\n",
        "        \n",
        "    plt.show()"
      ]
    },
    {
      "cell_type": "markdown",
      "metadata": {
        "id": "zPJ7SpZ8PrrF"
      },
      "source": [
        "2D visualization via PCA"
      ]
    },
    {
      "cell_type": "code",
      "execution_count": 37,
      "metadata": {
        "id": "HqaZ59uVjEEx"
      },
      "outputs": [],
      "source": [
        "from matplotlib import offsetbox\n",
        "from matplotlib.offsetbox import AnnotationBbox, OffsetImage\n",
        "\n",
        "def plot_embedding(X, y, images_small=None, title=None):\n",
        "    \"\"\"\n",
        "    Nice plot on first two components of embedding with Offsets.\n",
        "    \n",
        "    \"\"\"\n",
        "    # take only first two columns\n",
        "    X = X[:, :2]\n",
        "    # scaling\n",
        "    x_min, x_max = np.min(X, 0), np.max(X, 0)\n",
        "    X = (X - x_min) / (x_max - x_min)\n",
        "    plt.figure(figsize=(13,8))\n",
        "    ax = plt.subplot(111)\n",
        "    \n",
        "    for i in range(X.shape[0] - 1):\n",
        "        plt.text(X[i, 0], X[i, 1], str(y[i]),\n",
        "                 color=plt.cm.RdGy(y[i]),\n",
        "                 fontdict={'weight': 'bold', 'size': 12})\n",
        "        if images_small is not None:\n",
        "            imagebox = OffsetImage(images_small[i], zoom=.4, cmap = 'gray')\n",
        "            ab = AnnotationBbox(imagebox, (X[i, 0], X[i, 1]),\n",
        "                xycoords='data')                                  \n",
        "            ax.add_artist(ab)\n",
        "    \n",
        "    if hasattr(offsetbox, 'AnnotationBbox'):\n",
        "        # only print thumbnails with matplotlib > 1.0\n",
        "        shown_images = np.array([[1., 1.]])  \n",
        "        for i in range(X.shape[0]):\n",
        "            dist = np.sum((X[i] - shown_images) ** 2, 1)\n",
        "            if np.min(dist) < 4e-1:\n",
        "                # don't show points that are too close\n",
        "                continue\n",
        "    if title is not None:\n",
        "        plt.title(title)"
      ]
    },
    {
      "cell_type": "code",
      "execution_count": 87,
      "metadata": {
        "id": "eIoUpJ4rjEEy"
      },
      "outputs": [],
      "source": [
        "X_projected = PCA(400).fit_transform(data) ### YOUR CODE HERE ###\n",
        "data_pic = data.reshape((-1, 64, 64))\n",
        "plot_embedding(X_projected, target, data_pic, \"PCA decomposition, projection on first two components  \")"
      ]
    },
    {
      "cell_type": "markdown",
      "metadata": {
        "id": "NpLTntUujEEy"
      },
      "source": [
        "If I will change the number of components in here `PCA(100)` will it change the manifold?"
      ]
    },
    {
      "cell_type": "markdown",
      "metadata": {
        "id": "cPi6Di6TjEEy"
      },
      "source": [
        "## 4. Estimation of intrinsic dimension\n",
        "\n",
        "From the paper: \n",
        "\n",
        "\n",
        "*There is a consensus in the high-dimensional data analysis community that the only reason any methods work in very high dimensions is that, in fact, the data are not truly high-dimensional. Rather, they are embedded in a high-dimensional space,\n",
        "but can be efficiently summarized in a space of a much lower dimension, such as a nonlinear manifold.* \n",
        "\n",
        "*Then one can reduce dimension without losing much information for many types of real-life high-dimensional data, such as images, and avoid many of the “curses of dimensionality”. Learning these data manifolds can improve\n",
        "performance in classification and other applications, but if the data structure is\n",
        "complex and nonlinear, dimensionality reduction can be a hard problem.*\n",
        "\n",
        "#####  NIPS 2004: https://papers.nips.cc/paper/2577-maximum-likelihood-estimation-of-intrinsic-dimension.pdf\n",
        "\n",
        "### Idea of the method\n",
        "\n",
        "The idea of the nearest-neighbor intrinsic dimension estimation is based on fact of the  that the number of sample points in $\\mathbf{X} = \\mathbb{R}^n$ falling into a ball around $\\mathbf{x}$ is proportional to the radius of of the ball $R$, the dimension of the ball $d$ and the density $f(x)$ for which the well-known estimator exists\n",
        "\n",
        "$$f(x) = \\frac{k/n}{R^d V(d)},$$\n",
        "\n",
        "where $V(d) = \\pi^{d/2} [\\Gamma (d/2+1)]^{-1}$ is the volume of unit sphere in $\\mathbb{R}^d$ and $\\Gamma(d) = (d - 1)!$ is the Gamma function.\n",
        "\n",
        "Then the intrinsic dimension $d$ of the sample can be regressed out or estimated by the maximum likelihood appoarch."
      ]
    },
    {
      "cell_type": "code",
      "execution_count": 40,
      "metadata": {
        "id": "ioFUC2nHjEEz"
      },
      "outputs": [],
      "source": [
        "\"\"\"\n",
        "Implementation of 'Maximum Likelihood Estimation of Intrinsic Dimension' by Elizaveta Levina and Peter J. Bickel\n",
        " \n",
        "how to use\n",
        "----------\n",
        " \n",
        "The goal is to estimate intrinsic dimensionality of data, the estimation of dimensionality is scale dependent\n",
        "(depending on how much you zoom into the data distribution you can find different dimesionality), so they\n",
        "propose to average it over different scales, the interval of the scales [k1, k2] are the only parameters of the algorithm.\n",
        " \n",
        "This code also provides a way to repeat the estimation with bootstrapping to estimate uncertainty.\n",
        " \n",
        "Here is one example with swiss roll :\n",
        " \n",
        "from sklearn.datasets import make_swiss_roll\n",
        "X, _ = make_swiss_roll(1000)\n",
        " \n",
        "k1 = 10 # start of interval(included)\n",
        "k2 = 20 # end of interval(included)\n",
        "intdim_k_repeated = repeated(intrinsic_dim_scale_interval, \n",
        "                             X, \n",
        "                             mode='bootstrap', \n",
        "                             nb_iter=500, # nb_iter for bootstrapping\n",
        "                             verbose=1, \n",
        "                             k1=k1, k2=k2)\n",
        "intdim_k_repeated = np.array(intdim_k_repeated)\n",
        "# the shape of intdim_k_repeated is (nb_iter, size_of_interval) where \n",
        "# nb_iter is number of bootstrap iterations (here 500) and size_of_interval\n",
        "# is (k2 - k1 + 1).\n",
        " \n",
        "\"\"\"\n",
        "# from tqdm import tqdm\n",
        "import pandas as pd\n",
        "import numpy as np\n",
        "from sklearn.neighbors import NearestNeighbors\n",
        " \n",
        "def intrinsic_dim_sample_wise(X, k=5):\n",
        "    neighb = NearestNeighbors(n_neighbors=k+1).fit(X)\n",
        "    dist, ind = neighb.kneighbors(X) # distances between the samples and points\n",
        "    dist = dist[:, 1:] # the distance between the first points to first points (as basis ) equals zero\n",
        "    # the first non trivial point\n",
        "    dist = dist[:, 0:k]# including points k-1\n",
        "    assert dist.shape == (X.shape[0], k) # requirments are there is no equal points\n",
        "    assert np.all(dist > 0)\n",
        "    d = np.log(dist[:, k - 1: k] / dist[:, 0:k-1]) # dinstance betveen the bayeasan statistics\n",
        "    d = d.sum(axis=1) / (k - 2)\n",
        "    d = 1. / d\n",
        "    intdim_sample = d\n",
        "    return intdim_sample\n",
        " \n",
        "def intrinsic_dim_scale_interval(X, k1=10, k2=20):\n",
        "    X = pd.DataFrame(X).drop_duplicates().values # remove duplicates in case you use bootstrapping\n",
        "    intdim_k = []\n",
        "    for k in range(k1, k2 + 1): # in order to reduse the noise by eliminating of the nearest neibours \n",
        "        m = intrinsic_dim_sample_wise(X, k).mean()\n",
        "        intdim_k.append(m)\n",
        "    return intdim_k\n",
        " \n",
        "def repeated(func, X, nb_iter=100, random_state=None, mode='bootstrap', **func_kw):\n",
        "    if random_state is None:\n",
        "        rng = np.random\n",
        "    else:\n",
        "        rng = np.random.RandomState(random_state)\n",
        "    nb_examples = X.shape[0]\n",
        "    results = []\n",
        " \n",
        "    iters = range(nb_iter) \n",
        "    for i in iters:\n",
        "        if mode == 'bootstrap':# and each point we want to resample with repeating points to reduse the errors \n",
        "            #232 111 133 \n",
        "            Xr = X[rng.randint(0, nb_examples, size=nb_examples)]\n",
        "        elif mode == 'shuffle':\n",
        "            ind = np.arange(nb_examples)\n",
        "            rng.shuffle(ind)\n",
        "            Xr = X[ind]\n",
        "        elif mode == 'same':\n",
        "            Xr = X\n",
        "        else:\n",
        "            raise ValueError('unknown mode : {}'.format(mode))\n",
        "        results.append(func(Xr, **func_kw))\n",
        "    return results"
      ]
    },
    {
      "cell_type": "code",
      "execution_count": 88,
      "metadata": {
        "id": "188TngW8jEE0"
      },
      "outputs": [],
      "source": [
        "import warnings\n",
        "warnings.filterwarnings(\"ignore\")\n",
        "\n",
        "k1 = 1 # start of interval(included)\n",
        "k2 = 5 # end of interval(included)\n",
        "nb_iter = 3 # more iterations more accuracy\n",
        "# intrinsic_dim_scale_interval gives better estimation\n",
        "intdim_k_repeated = repeated(intrinsic_dim_scale_interval,  \n",
        "                             data,\n",
        "                             mode='bootstrap', \n",
        "                             nb_iter=nb_iter, # nb_iter for bootstrapping\n",
        "                             k1=k1, k2=k2)\n",
        "intdim_k_repeated = np.array(intdim_k_repeated)\n",
        "\n",
        "x = np.arange(k1, k2+1)\n",
        "\n",
        "plt.figure(figsize=(14, 4))\n",
        "plt.plot(x, np.mean(intdim_k_repeated, axis=0), 'b', label='Mean') # it is the mean walue\n",
        "plt.fill_between(x, \n",
        "                 np.mean(intdim_k_repeated, axis=0) - \n",
        "                 2 * np.std(intdim_k_repeated, axis=0),\n",
        "                 np.mean(intdim_k_repeated, axis=0) + \n",
        "                 2 * np.std(intdim_k_repeated, axis=0),\n",
        "                 alpha=0.3,\n",
        "                 label='CI=95%',\n",
        "                 color='g')\n",
        "plt.xlabel(\"Nearest Neigbours\")\n",
        "plt.ylabel(\"Intrinsic Dimensionality\")\n",
        "plt.legend()\n",
        "plt.show()"
      ]
    },
    {
      "cell_type": "markdown",
      "metadata": {
        "id": "wc5wqgBzjEE1"
      },
      "source": [
        "## 5. Manifold learning  \n",
        "\n",
        "It is big part of research on the application of geometry and in particular differential geometry to machine learning. If you are interested - next term it will be course by **Prof. Bernstein** - you are welcomed. \n",
        "\n",
        "We are going to touch a couple popular algorithms from: https://scikit-learn.org/stable/modules/manifold.html\n",
        "\n",
        "The manifold learning methods also assumes nono-linear algorithms for dimensionality reduction.\n",
        "\n",
        "Questions:\n",
        "* Is `PCA` linear?\n",
        "* Can we compose non-linear `PCA` from the linear?"
      ]
    },
    {
      "cell_type": "markdown",
      "metadata": {
        "id": "rWHZT1oqjEE2"
      },
      "source": [
        "Principal Component Analysis (PCA), Independent Component Analysis, Linear Discriminant Analysis, and others. These algorithms define specific rubrics to choose an good linear projection of the data. \n",
        "\n",
        "These methods can be powerful, but often miss important non-linear structure in the data.\n",
        "\n",
        "\n",
        "**Lets go with some other liner method : Independent Component Analysis `ICA`.** \n",
        "FastICA algorithm: https://scikit-learn.org/stable/modules/generated/sklearn.decomposition.FastICA.html"
      ]
    },
    {
      "cell_type": "markdown",
      "metadata": {
        "id": "otnyAot5jEE2"
      },
      "source": [
        "<img src=\"https://cf2.ppt-online.org/files2/slide/c/CarDgVY6t91bypGImvqBcR3OdAjWhFTZ2JQxL4ofM/slide-6.jpg\" alt=\"Drawing\" style=\"width: 700px;\" />\n",
        "Credit for: https://cf2.ppt-online.org/files2/slide/c/CarDgVY6t91bypGImvqBcR3OdAjWhFTZ2JQxL4ofM/slide-6.jpg"
      ]
    },
    {
      "cell_type": "code",
      "execution_count": 44,
      "metadata": {
        "id": "dKRSqSo6jEE3"
      },
      "outputs": [],
      "source": [
        "# let's leave 20 peaple from faces to get more comprehencible visualisation\n",
        "\n",
        "data = fetch_olivetti_faces(shuffle=True, random_state= 42 ).data\n",
        "target = fetch_olivetti_faces(shuffle=True, random_state= 42).target\n",
        "\n",
        "\n",
        "data = ### YOUR CODE HERE ###\n",
        "target = ### YOUR CODE HERE ###"
      ]
    },
    {
      "cell_type": "code",
      "execution_count": 89,
      "metadata": {
        "id": "9reVaTDXjEE3"
      },
      "outputs": [],
      "source": [
        "from sklearn.decomposition import FastICA \n",
        "\n",
        "X_projected = ### YOUR CODE HERE ###\n",
        "data_pic = data.reshape((-1, 64, 64))\n",
        "plot_embedding(X_projected, target, data_pic, \"ICA decomposition, projection on two components\")"
      ]
    },
    {
      "cell_type": "markdown",
      "metadata": {
        "id": "Nc_GQfw0jEE3"
      },
      "source": [
        "Will the decomposition change with the `n_components` changed?"
      ]
    },
    {
      "cell_type": "markdown",
      "metadata": {
        "id": "THxVOEXqjEE3"
      },
      "source": [
        "**The most popular nonlinear algorithms: tSNE,  MDS, Isomap**"
      ]
    },
    {
      "cell_type": "markdown",
      "metadata": {
        "id": "PEr5uieZjEE3"
      },
      "source": [
        "t-SNE converts similarities between data points to joint probabilities and tries to minimize the Kullback-Leibler divergence between the joint probabilities of the low-dimensional embedding and the high-dimensional data. t-SNE has a cost function that is not convex, i.e. with different initializations we can get different results.\n",
        "\n",
        "1. For each data point $x_i$ we’ll center a Gaussian distribution over that point. Then we measure the density of all points $x_j$ under that Gaussian distribution. Then renormalize for all points. This gives us a set of probabilities $P_{ij}$ for all points in higher dimentional space.\n",
        "\n",
        "2. Get the second set of probablities $Q_{ij}$ for Cauchy distribution (with is Students t-distribution with one degree of freedom), which allow for better modeling of far apart distances, becouse of heavier tails.\n",
        "\n",
        "3. Map these two sets of probabilities ($ P_{ij}; Q_{ij}$)to each other, optimiing KL-divergence."
      ]
    },
    {
      "cell_type": "markdown",
      "metadata": {
        "id": "RnbA1JsJjEE4"
      },
      "source": [
        "Where Kullback–Leibler divergence can be defined as \n",
        "\n",
        "$$ D_{KL} (P || Q) = \\sum P(x) log(\\frac{P(x)}{Q(x)})$$"
      ]
    },
    {
      "cell_type": "code",
      "execution_count": 90,
      "metadata": {
        "id": "z_5PsxFHjEE5"
      },
      "outputs": [],
      "source": [
        "from sklearn.manifold import TSNE\n",
        "\n",
        "\n",
        "tsne = TSNE(n_components=2, n_iter = 1000, metric='euclidean', learning_rate= 10, verbose=2, random_state = 42) ### YOUR CODE HERE ###\n",
        "\n",
        "X_projected = tsne.fit_transform(data)\n",
        "data_pic = data.reshape((-1, 64, 64))\n",
        "plot_embedding(X_projected, target, data_pic, \"tSNE decomposition, projection on two components\")"
      ]
    },
    {
      "cell_type": "markdown",
      "metadata": {
        "id": "0Ch_NV-5ffis"
      },
      "source": [
        "The effect of the perplexity"
      ]
    },
    {
      "cell_type": "code",
      "execution_count": 50,
      "metadata": {
        "id": "y0SfXlL-gLtV"
      },
      "outputs": [],
      "source": [
        "from sklearn.datasets import make_blobs"
      ]
    },
    {
      "cell_type": "code",
      "execution_count": 51,
      "metadata": {
        "id": "3lu_zZrjgO48"
      },
      "outputs": [],
      "source": [
        "X, y = make_blobs(n_samples=500, n_features=10, centers=5)"
      ]
    },
    {
      "cell_type": "code",
      "execution_count": 91,
      "metadata": {
        "id": "sUgqcfFugQ5i"
      },
      "outputs": [],
      "source": [
        "tsne = TSNE(n_components=2)\n",
        "X_hat = tsne.fit_transform(X)\n",
        "\n",
        "plt.figure(figsize=(10, 6))\n",
        "plt.scatter(X_hat[:, 0], X_hat[:, 1], c=y, cmap='Set1')\n",
        "plt.show()"
      ]
    },
    {
      "cell_type": "markdown",
      "metadata": {
        "id": "LGGTCgrkgd3Q"
      },
      "source": [
        "Let's see how does the displacement of points in the 2D space changes with respect to the `perplexity` paremter (smoothed effective number of the neighbours)"
      ]
    },
    {
      "cell_type": "code",
      "execution_count": 92,
      "metadata": {
        "id": "NU7nE1x1feaY"
      },
      "outputs": [],
      "source": [
        "for perplexity in [1, 5, 15, 30, 50, 75, 100]:\n",
        "\n",
        "    tsne = TSNE(n_components=2, perplexity=perplexity)\n",
        "    X_hat = tsne.fit_transform(X)\n",
        "\n",
        "    plt.figure(figsize=(10, 6))\n",
        "    plt.scatter(X_hat[:, 0], X_hat[:, 1], c=y, cmap='Set1')\n",
        "    plt.title('Perp = {}'.format(perplexity))\n",
        "    plt.show()"
      ]
    },
    {
      "cell_type": "markdown",
      "metadata": {
        "id": "PtUxr2qNiLay"
      },
      "source": [
        "### Multi-dimensional Scaling (MDS)\n",
        "\n",
        "Multidimensional scaling (MDS) seeks a low-dimensional representation of the data in which the distances respect well the distances in the original high-dimensional space.\n",
        "\n",
        "*Modern Multidimensional Scaling - Theory and Applications, Borg, I.; Groenen P. Springer Series in Statistics (1997)*"
      ]
    },
    {
      "cell_type": "code",
      "execution_count": 93,
      "metadata": {
        "id": "fNrTDJkQiOiP"
      },
      "outputs": [],
      "source": [
        "from sklearn.manifold import MDS\n",
        "\n",
        "X_projected = ### YOUR CODE HERE ###\n",
        "data_pic = data.reshape((-1, 64, 64))\n",
        "plot_embedding(X_projected, target, data_pic, \"MDS decomposition, projection on two components\")"
      ]
    },
    {
      "cell_type": "markdown",
      "metadata": {
        "id": "9_WfWr01jEE5"
      },
      "source": [
        "### Isometric Mapping (Isomap)\n",
        "\n",
        "Isomap can be viewed as an extension of Multi-dimensional Scaling (MDS) or Kernel PCA. Isomap seeks a lower-dimensional embedding which maintains geodesic distances between all points. Goes in three stages:\n",
        "\n",
        "1. **Nearest neighbor search**. \n",
        "\n",
        "2. **Shortest-path graph search.**\n",
        "\n",
        "3. **MDS with respect to the geodesic distances**."
      ]
    },
    {
      "cell_type": "code",
      "execution_count": 94,
      "metadata": {
        "id": "oQvbUl4EjEE5"
      },
      "outputs": [],
      "source": [
        "from sklearn.manifold import Isomap\n",
        "\n",
        "X_projected = ### YOUR CODE HERE ###\n",
        "data_pic = data.reshape((-1, 64, 64))\n",
        "plot_embedding(X_projected, target, data_pic, \"Isomap decomposition, projection on  two components\")"
      ]
    },
    {
      "cell_type": "code",
      "execution_count": null,
      "metadata": {
        "id": "XfnmxoLqhcY-"
      },
      "outputs": [],
      "source": []
    }
  ],
  "metadata": {
    "colab": {
      "provenance": []
    },
    "kernelspec": {
      "display_name": "Python 3",
      "language": "python",
      "name": "python3"
    },
    "language_info": {
      "codemirror_mode": {
        "name": "ipython",
        "version": 3
      },
      "file_extension": ".py",
      "mimetype": "text/x-python",
      "name": "python",
      "nbconvert_exporter": "python",
      "pygments_lexer": "ipython3",
      "version": "3.7.9"
    }
  },
  "nbformat": 4,
  "nbformat_minor": 0
}
